{
 "cells": [
  {
   "cell_type": "markdown",
   "metadata": {},
   "source": [
    "# Taller 3\n",
    "Métodos Computacionales para Políticas Públicas - URosario\n",
    "\n",
    "**Entrega: viernes 24-ago-2018 11:59 PM**"
   ]
  },
  {
   "cell_type": "markdown",
   "metadata": {},
   "source": [
    "<div class=\"alert alert-success\">\n",
    "**[Solucion]** <br><br>\n",
    "[@urosario.edu.co]\n",
    "</div>"
   ]
  },
  {
   "cell_type": "markdown",
   "metadata": {},
   "source": [
    "## Instrucciones:\n",
    "- Guarde una copia de este *Jupyter Notebook* en su computador, idealmente en una carpeta destinada al material del curso.\n",
    "- Modifique el nombre del archivo del *notebook*, agregando al final un guión inferior y su nombre y apellido, separados estos últimos por otro guión inferior. Por ejemplo, mi *notebook* se llamaría: mcpp_taller3_santiago_matallana\n",
    "- Marque el *notebook* con su nombre y e-mail en el bloque verde arriba. Reemplace el texto \"[Su nombre acá]\" con su nombre y apellido. Similar para su e-mail.\n",
    "- Desarrolle la totalidad del taller sobre este *notebook*, insertando las celdas que sea necesario debajo de cada pregunta. Haga buen uso de las celdas para código y de las celdas tipo *markdown* según el caso.\n",
    "- Recuerde salvar periódicamente sus avances.\n",
    "- Cuando termine el taller:\n",
    "    1. Descárguelo en PDF.\n",
    "    2. Suba los dos archivos (.pdf y .ipynb) a su repositorio en GitHub antes de la fecha y hora límites.\n",
    "\n",
    "(El valor de cada ejercicio está en corchetes [ ] después del número de ejercicio.)"
   ]
  },
  {
   "cell_type": "markdown",
   "metadata": {},
   "source": [
    "---"
   ]
  },
  {
   "cell_type": "markdown",
   "metadata": {},
   "source": [
    "Antes de iniciar, por favor descarge el archivo <font face=\"consolas\" color=\"green\">mcpp_taller3_listas_ejemplos.py</font> del repositorio, guárdelo en la misma carpeta en la que está trabajando este taller y ejecútelo con el siguiente comando:"
   ]
  },
  {
   "cell_type": "code",
   "execution_count": 1,
   "metadata": {
    "collapsed": true
   },
   "outputs": [],
   "source": [
    "run mcpp_taller3_listas_ejemplos.py"
   ]
  },
  {
   "cell_type": "markdown",
   "metadata": {},
   "source": [
    "Este archivo contiene tres listas (<font face=\"consolas\" color=\"green\">l0</font>, <font face=\"consolas\" color=\"green\">l1</font> y <font face=\"consolas\" color=\"green\">l2</font>) que usará para las tareas de esta sección. Puede ver los valores de las listas simplemente escribiendo sus nombres y ejecutándolos en el Notebook. Inténtelo para verificar que <font face=\"consolas\" color=\"green\">mcpp_taller3_listas_ejemplos.py</font> quedó bien cargado. Debería ver:"
   ]
  },
  {
   "cell_type": "markdown",
   "metadata": {},
   "source": [
    "In [1]: l0\n",
    "Out[1]: []\n",
    "\n",
    "In [2]: l1\n",
    "Out[2]: [1, 'abc', 5.7, [1, 3, 5]]\n",
    "\n",
    "In [3]: l2\n",
    "Out[3]: [10, 11, 12, 13, 14, 15, 16]"
   ]
  },
  {
   "cell_type": "code",
   "execution_count": 2,
   "metadata": {
    "collapsed": false
   },
   "outputs": [
    {
     "name": "stdout",
     "output_type": "stream",
     "text": [
      "[] [1, 'abc', 5.7, [1, 3, 5]] [10, 11, 12, 13, 14, 15, 16]\n"
     ]
    }
   ],
   "source": [
    "print(l0,l1,l2)"
   ]
  },
  {
   "cell_type": "markdown",
   "metadata": {},
   "source": [
    "## 1. [1]\n",
    "\n",
    "Cree una lista que contenga los elementos <font face=\"consolas\">7</font>, <font face=\"consolas\">\"xyz\"</font> y <font face=\"consolas\">2.7</font>."
   ]
  },
  {
   "cell_type": "code",
   "execution_count": 3,
   "metadata": {
    "collapsed": true
   },
   "outputs": [],
   "source": [
    "lista=[7,\"xyz\",2.7]"
   ]
  },
  {
   "cell_type": "markdown",
   "metadata": {},
   "source": [
    "## 2. [1]\n",
    "\n",
    "Halle la longitud de la lista <font face=\"consolas\">l1</font>."
   ]
  },
  {
   "cell_type": "code",
   "execution_count": 4,
   "metadata": {
    "collapsed": false
   },
   "outputs": [
    {
     "data": {
      "text/plain": [
       "4"
      ]
     },
     "execution_count": 4,
     "metadata": {},
     "output_type": "execute_result"
    }
   ],
   "source": [
    "len(l1)"
   ]
  },
  {
   "cell_type": "markdown",
   "metadata": {},
   "source": [
    "## 3. [1]\n",
    "\n",
    "Escriba expresiones para obtener el valor <font face=\"consolas\">5.7</font> de la lista <font face=\"consolas\">l1</font> y para obtener el valor <font face=\"consolas\">5</font> a partir del cuarto elemento de <font face=\"consolas\">l1</font>."
   ]
  },
  {
   "cell_type": "code",
   "execution_count": 5,
   "metadata": {
    "collapsed": false
   },
   "outputs": [
    {
     "data": {
      "text/plain": [
       "[1, 'abc', 5.7, [1, 3, 5]]"
      ]
     },
     "execution_count": 5,
     "metadata": {},
     "output_type": "execute_result"
    }
   ],
   "source": [
    "l1"
   ]
  },
  {
   "cell_type": "code",
   "execution_count": 6,
   "metadata": {
    "collapsed": false
   },
   "outputs": [
    {
     "data": {
      "text/plain": [
       "5.7"
      ]
     },
     "execution_count": 6,
     "metadata": {},
     "output_type": "execute_result"
    }
   ],
   "source": [
    "l1[2]"
   ]
  },
  {
   "cell_type": "code",
   "execution_count": 7,
   "metadata": {
    "collapsed": false
   },
   "outputs": [
    {
     "data": {
      "text/plain": [
       "5"
      ]
     },
     "execution_count": 7,
     "metadata": {},
     "output_type": "execute_result"
    }
   ],
   "source": [
    "l1[3][2]"
   ]
  },
  {
   "cell_type": "markdown",
   "metadata": {},
   "source": [
    "## 4. [1]\n",
    "\n",
    "Prediga qué ocurrirá si se evalúa la expresión <font face=\"consolas\">l1[4]</font> y luego pruébelo."
   ]
  },
  {
   "cell_type": "code",
   "execution_count": 12,
   "metadata": {
    "collapsed": false
   },
   "outputs": [
    {
     "ename": "IndexError",
     "evalue": "list index out of range",
     "output_type": "error",
     "traceback": [
      "\u001b[1;31m---------------------------------------------------------------------------\u001b[0m",
      "\u001b[1;31mIndexError\u001b[0m                                Traceback (most recent call last)",
      "\u001b[1;32m<ipython-input-12-dba85f96159d>\u001b[0m in \u001b[0;36m<module>\u001b[1;34m()\u001b[0m\n\u001b[0;32m      1\u001b[0m \u001b[1;31m##predigo que mostrara error dado que no existe este elemento en la lista l1\u001b[0m\u001b[1;33m\u001b[0m\u001b[1;33m\u001b[0m\u001b[0m\n\u001b[1;32m----> 2\u001b[1;33m \u001b[0ml1\u001b[0m\u001b[1;33m[\u001b[0m\u001b[1;36m4\u001b[0m\u001b[1;33m]\u001b[0m\u001b[1;33m\u001b[0m\u001b[0m\n\u001b[0m",
      "\u001b[1;31mIndexError\u001b[0m: list index out of range"
     ]
    }
   ],
   "source": [
    "##predigo que mostrara error dado que no existe este elemento en la lista l1\n"
   ]
  },
  {
   "cell_type": "markdown",
   "metadata": {},
   "source": [
    "---------------------------------------------------------------------------\n",
    "IndexError                                Traceback (most recent call last)\n",
    "<ipython-input-21-2c2a81dbcaa5> in <module>()\n",
    "----> 1 l1[4]\n",
    "\n",
    "IndexError: list index out of range"
   ]
  },
  {
   "cell_type": "markdown",
   "metadata": {},
   "source": [
    "## 5. [1]\n",
    "\n",
    "Prediga qué ocurrirá si se evalúa la expresión <font face=\"consolas\">l2[-1]</font> y luego pruébelo."
   ]
  },
  {
   "cell_type": "code",
   "execution_count": 8,
   "metadata": {
    "collapsed": false
   },
   "outputs": [
    {
     "data": {
      "text/plain": [
       "[10, 11, 12, 13, 14, 15, 16]"
      ]
     },
     "execution_count": 8,
     "metadata": {},
     "output_type": "execute_result"
    }
   ],
   "source": [
    "l2"
   ]
  },
  {
   "cell_type": "code",
   "execution_count": null,
   "metadata": {
    "collapsed": true
   },
   "outputs": [],
   "source": [
    "##predigo que mostrara el ultimo elemento de la lista seria 16"
   ]
  },
  {
   "cell_type": "code",
   "execution_count": 9,
   "metadata": {
    "collapsed": false
   },
   "outputs": [
    {
     "data": {
      "text/plain": [
       "16"
      ]
     },
     "execution_count": 9,
     "metadata": {},
     "output_type": "execute_result"
    }
   ],
   "source": [
    "l2[-1]"
   ]
  },
  {
   "cell_type": "markdown",
   "metadata": {},
   "source": [
    "## 6. [1]\n",
    "\n",
    "Escriba una expresión para cambiar el valor <font face=\"consolas\">3</font> en el cuarto elemento de <font face=\"consolas\">l1</font> a <font face=\"consolas\">15.0</font>."
   ]
  },
  {
   "cell_type": "code",
   "execution_count": 10,
   "metadata": {
    "collapsed": false
   },
   "outputs": [],
   "source": [
    "l1[3][1]=15.0"
   ]
  },
  {
   "cell_type": "code",
   "execution_count": 11,
   "metadata": {
    "collapsed": false
   },
   "outputs": [
    {
     "data": {
      "text/plain": [
       "[1, 'abc', 5.7, [1, 15.0, 5]]"
      ]
     },
     "execution_count": 11,
     "metadata": {},
     "output_type": "execute_result"
    }
   ],
   "source": [
    "l1"
   ]
  },
  {
   "cell_type": "markdown",
   "metadata": {},
   "source": [
    "## 7. [1]\n",
    "\n",
    "Escriba una expresión para crear un \"slice\" que contenga del segundo al quinto elemento (inclusive) de la lista <font face=\"consolas\">l2</font>."
   ]
  },
  {
   "cell_type": "code",
   "execution_count": 12,
   "metadata": {
    "collapsed": false
   },
   "outputs": [
    {
     "data": {
      "text/plain": [
       "[10, 11, 12, 13, 14, 15, 16]"
      ]
     },
     "execution_count": 12,
     "metadata": {},
     "output_type": "execute_result"
    }
   ],
   "source": [
    "l2"
   ]
  },
  {
   "cell_type": "code",
   "execution_count": 13,
   "metadata": {
    "collapsed": false
   },
   "outputs": [
    {
     "data": {
      "text/plain": [
       "[11, 12, 13, 14]"
      ]
     },
     "execution_count": 13,
     "metadata": {},
     "output_type": "execute_result"
    }
   ],
   "source": [
    "l2[1:5]"
   ]
  },
  {
   "cell_type": "markdown",
   "metadata": {},
   "source": [
    "## 8. [1]\n",
    "\n",
    "Escriba una expresión para crear un \"slice\" que contenga los primeros tres elementos de la lista <font face=\"consolas\">l2</font>."
   ]
  },
  {
   "cell_type": "code",
   "execution_count": 14,
   "metadata": {
    "collapsed": false
   },
   "outputs": [
    {
     "data": {
      "text/plain": [
       "[10, 11, 12]"
      ]
     },
     "execution_count": 14,
     "metadata": {},
     "output_type": "execute_result"
    }
   ],
   "source": [
    "l2[0:3]"
   ]
  },
  {
   "cell_type": "markdown",
   "metadata": {},
   "source": [
    "## 9. [1]\n",
    "\n",
    "Escriba una expresión para crear un \"slice\" que contenga del segundo al último elemento de la lista <font face=\"consolas\">l2</font>."
   ]
  },
  {
   "cell_type": "code",
   "execution_count": 15,
   "metadata": {
    "collapsed": false
   },
   "outputs": [
    {
     "data": {
      "text/plain": [
       "[11, 12, 13, 14, 15]"
      ]
     },
     "execution_count": 15,
     "metadata": {},
     "output_type": "execute_result"
    }
   ],
   "source": [
    "l2[1:-1]"
   ]
  },
  {
   "cell_type": "markdown",
   "metadata": {},
   "source": [
    "## 10. [1]\n",
    "\n",
    "Escriba un código para añadir cuatro elementos a la lista <font face=\"consolas\">l0</font> usando la operación <font face=\"consolas\">append</font> y luego extraiga el tercer elemento (quítelo de la lista). ¿Cuántos \"appends\" debe hacer?"
   ]
  },
  {
   "cell_type": "code",
   "execution_count": 16,
   "metadata": {
    "collapsed": false
   },
   "outputs": [],
   "source": [
    "l0=[]"
   ]
  },
  {
   "cell_type": "code",
   "execution_count": 19,
   "metadata": {
    "collapsed": false
   },
   "outputs": [],
   "source": [
    "valores=[5,10,15,20]\n",
    "for i in valores:\n",
    "    v=i*4\n",
    "    l0.append(v)\n",
    "    \n",
    "    "
   ]
  },
  {
   "cell_type": "code",
   "execution_count": 20,
   "metadata": {
    "collapsed": false
   },
   "outputs": [
    {
     "data": {
      "text/plain": [
       "[20, 40, 60, 80]"
      ]
     },
     "execution_count": 20,
     "metadata": {},
     "output_type": "execute_result"
    }
   ],
   "source": [
    "l0"
   ]
  },
  {
   "cell_type": "code",
   "execution_count": 21,
   "metadata": {
    "collapsed": false
   },
   "outputs": [
    {
     "data": {
      "text/plain": [
       "60"
      ]
     },
     "execution_count": 21,
     "metadata": {},
     "output_type": "execute_result"
    }
   ],
   "source": [
    "l0[2]"
   ]
  },
  {
   "cell_type": "markdown",
   "metadata": {},
   "source": [
    "## 11. [1]\n",
    "\n",
    "Cree una nueva lista <font face=\"consolas\">nl</font> concatenando la nueva versión de <font face=\"consolas\">l0</font> con <font face=\"consolas\">l0</font>, y luego actualice un elemento cualquiera de <font face=\"consolas\">nl</font>. ¿Cambia alguna de las listas <font face=\"consolas\">l0</font> o <font face=\"consolas\">l1</font> al ejecutar los anteriores comandos?"
   ]
  },
  {
   "cell_type": "code",
   "execution_count": 22,
   "metadata": {
    "collapsed": true
   },
   "outputs": [],
   "source": [
    "nl=l0+[]"
   ]
  },
  {
   "cell_type": "code",
   "execution_count": 23,
   "metadata": {
    "collapsed": true
   },
   "outputs": [],
   "source": [
    "nl[1]=0"
   ]
  },
  {
   "cell_type": "code",
   "execution_count": 24,
   "metadata": {
    "collapsed": false
   },
   "outputs": [
    {
     "data": {
      "text/plain": [
       "[20, 0, 60, 80]"
      ]
     },
     "execution_count": 24,
     "metadata": {},
     "output_type": "execute_result"
    }
   ],
   "source": [
    "nl"
   ]
  },
  {
   "cell_type": "code",
   "execution_count": null,
   "metadata": {
    "collapsed": true
   },
   "outputs": [],
   "source": [
    "##no existe ningun cambio"
   ]
  },
  {
   "cell_type": "markdown",
   "metadata": {},
   "source": [
    "## 12. [2]\n",
    "\n",
    "Escriba un loop que compute una variable <font face=\"consolas\">all_pos</font> cuyo valor sea <font face=\"consolas\">True</font> si todos los elementos de la lista <font face=\"consolas\">l3</font> son positivos y <font face=\"consolas\">False</font> en otro caso."
   ]
  },
  {
   "cell_type": "code",
   "execution_count": 36,
   "metadata": {
    "collapsed": true
   },
   "outputs": [],
   "source": [
    "l3=[-1,2,-3,4,-5]"
   ]
  },
  {
   "cell_type": "code",
   "execution_count": 26,
   "metadata": {
    "collapsed": false
   },
   "outputs": [],
   "source": [
    "l3=list(range(1,6))"
   ]
  },
  {
   "cell_type": "code",
   "execution_count": 27,
   "metadata": {
    "collapsed": false
   },
   "outputs": [
    {
     "data": {
      "text/plain": [
       "[1, 2, 3, 4, 5]"
      ]
     },
     "execution_count": 27,
     "metadata": {},
     "output_type": "execute_result"
    }
   ],
   "source": [
    "l3"
   ]
  },
  {
   "cell_type": "code",
   "execution_count": 28,
   "metadata": {
    "collapsed": true
   },
   "outputs": [],
   "source": [
    "all_pos=True"
   ]
  },
  {
   "cell_type": "code",
   "execution_count": 29,
   "metadata": {
    "collapsed": false
   },
   "outputs": [
    {
     "name": "stdout",
     "output_type": "stream",
     "text": [
      "True\n"
     ]
    }
   ],
   "source": [
    "\n",
    "for i in [0,1,2,3,4]:\n",
    "    if l3[i]<0:\n",
    "        all_pos=False\n",
    "        \n",
    "print(all_pos)\n",
    "    "
   ]
  },
  {
   "cell_type": "markdown",
   "metadata": {},
   "source": [
    "## 13. [2]\n",
    "\n",
    "Escriba un código para crear una nueva lista que contenga solo los valores positivos de la lista <font face=\"consolas\">l3</font>."
   ]
  },
  {
   "cell_type": "code",
   "execution_count": 37,
   "metadata": {
    "collapsed": false
   },
   "outputs": [],
   "source": [
    "l4=[]\n",
    "for i in list(range(len(l3))):\n",
    "    if l3[i]>0:\n",
    "        l4.append(l3[i])\n",
    "        "
   ]
  },
  {
   "cell_type": "code",
   "execution_count": 38,
   "metadata": {
    "collapsed": false
   },
   "outputs": [
    {
     "data": {
      "text/plain": [
       "[[2, 4], [-1, 2, -3, 4, -5]]"
      ]
     },
     "execution_count": 38,
     "metadata": {},
     "output_type": "execute_result"
    }
   ],
   "source": [
    "[l4,l3]"
   ]
  },
  {
   "cell_type": "markdown",
   "metadata": {},
   "source": [
    "## 14. [2]\n",
    "\n",
    "Escriba un código que use <font face=\"consolas\">append</font> para crear una nueva lista <font face=\"consolas\">nl</font> en la que el i-ésimo elemento de <font face=\"consolas\">nl</font> tiene el valor <font face=\"consolas\">True</font> si el i-ésimo elemento de <font face=\"consolas\">l3</font> tiene un valor positivo y <font face=\"consolas\">Falso</font> en otro caso."
   ]
  },
  {
   "cell_type": "code",
   "execution_count": 39,
   "metadata": {
    "collapsed": false
   },
   "outputs": [],
   "source": [
    "nl=[]"
   ]
  },
  {
   "cell_type": "code",
   "execution_count": 40,
   "metadata": {
    "collapsed": false
   },
   "outputs": [],
   "source": [
    "\n",
    "for i in list(range(len(l3))):\n",
    "    if l3[i]>=0:\n",
    "        \n",
    "        nl.append(True)\n",
    "    else:\n",
    "        nl.append(False)\n"
   ]
  },
  {
   "cell_type": "code",
   "execution_count": 41,
   "metadata": {
    "collapsed": false
   },
   "outputs": [
    {
     "data": {
      "text/plain": [
       "[False, True, False, True, False]"
      ]
     },
     "execution_count": 41,
     "metadata": {},
     "output_type": "execute_result"
    }
   ],
   "source": [
    "nl"
   ]
  },
  {
   "cell_type": "markdown",
   "metadata": {},
   "source": [
    "## 15. [3]\n",
    "\n",
    "Escriba un código que use <font face=\"consolas\">range</font>, para crear una nueva lista <font face=\"consolas\">nl</font> en la que el i-ésimo elemento de <font face=\"consolas\">nl</font> es <font face=\"consolas\">True</font> si el i-ésimo elemento de <font face=\"consolas\">l3</font> es positivo y <font face=\"consolas\">Falso</font> en otro caso.\n",
    "\n",
    "**Pista:** Comience por crear una lista de longitud adecuada, con <font face=\"consolas\">False</font> en cada índice."
   ]
  },
  {
   "cell_type": "code",
   "execution_count": 42,
   "metadata": {
    "collapsed": true
   },
   "outputs": [],
   "source": [
    "nl=[0]*5\n",
    "for i in list(range(len(l3))):\n",
    "    if l3[i]>0:\n",
    "        nl[i]=True\n",
    "    else:\n",
    "        nl[i]=False"
   ]
  },
  {
   "cell_type": "code",
   "execution_count": 43,
   "metadata": {
    "collapsed": false
   },
   "outputs": [
    {
     "data": {
      "text/plain": [
       "[False, True, False, True, False]"
      ]
     },
     "execution_count": 43,
     "metadata": {},
     "output_type": "execute_result"
    }
   ],
   "source": [
    "nl"
   ]
  },
  {
   "cell_type": "markdown",
   "metadata": {},
   "source": [
    "## 16. [4]\n",
    "\n",
    "En clase construimos una lista con 10000 números aleatorios entre 0 y 9, a partir del siguiente código:"
   ]
  },
  {
   "cell_type": "code",
   "execution_count": 44,
   "metadata": {
    "collapsed": true
   },
   "outputs": [],
   "source": [
    "import random\n",
    "\n",
    "N = 10000  \n",
    "random_numbers = []\n",
    "for i in range(N):\n",
    "    random_numbers.append(random.randint(0,9))"
   ]
  },
  {
   "cell_type": "markdown",
   "metadata": {},
   "source": [
    "Y creamos un \"contador\" que calcula la frecuencia de ocurrencia de cada número del 0 al 9, así:"
   ]
  },
  {
   "cell_type": "raw",
   "metadata": {},
   "source": [
    "count = []\n",
    "for x in range(0,10):\n",
    "    count.append(random_numbers.count(x))"
   ]
  },
  {
   "cell_type": "markdown",
   "metadata": {},
   "source": [
    "Cree un \"contador\" que haga lo mismo, pero sin hacer uso del método \"count\". (De hecho, sin usar método alguno.)"
   ]
  },
  {
   "cell_type": "markdown",
   "metadata": {},
   "source": [
    "**Pistas:**\n",
    "\n",
    "- Esto puede lograrse con un loop muy sencillo. Si su código es complejo, piense el problema de nuevo.\n",
    "- Es muy útil iniciar con una lista \"vacía\" de 10 elementos. Es decir, una lista con 10 ceros."
   ]
  },
  {
   "cell_type": "code",
   "execution_count": 105,
   "metadata": {
    "collapsed": true
   },
   "outputs": [],
   "source": [
    "frecuencia=[[],[],[],[],[],[],[],[],[],[]]\n",
    "\n",
    "for i in list(range(len(random_numbers))):\n",
    "    if random_numbers[i]==0:\n",
    "     frecuencia[0].append(1)\n",
    "    elif random_numbers[i]==1:\n",
    "     frecuencia[1].append(1)\n",
    "    elif random_numbers[i]==2:\n",
    "     frecuencia[2].append(1)\n",
    "    elif random_numbers[i]==3:\n",
    "     frecuencia[3].append(1)\n",
    "    elif random_numbers[i]==4:\n",
    "     frecuencia[4].append(1)\n",
    "    elif random_numbers[i]==5:\n",
    "     frecuencia[5].append(1)\n",
    "    elif random_numbers[i]==6:\n",
    "     frecuencia[6].append(1)\n",
    "    elif random_numbers[i]==7:\n",
    "     frecuencia[7].append(1)\n",
    "    elif random_numbers[i]==8:\n",
    "     frecuencia[8].append(1)\n",
    "    else:\n",
    "     frecuencia[9].append(1)\n"
   ]
  },
  {
   "cell_type": "code",
   "execution_count": 123,
   "metadata": {
    "collapsed": true
   },
   "outputs": [],
   "source": [
    "freq=[0]*10\n",
    "for j in range(0,10):\n",
    "    freq[j]=sum(frecuencia[j])"
   ]
  },
  {
   "cell_type": "code",
   "execution_count": 124,
   "metadata": {
    "collapsed": false
   },
   "outputs": [
    {
     "data": {
      "text/plain": [
       "[1078, 1009, 988, 1013, 1013, 998, 991, 1052, 946, 912]"
      ]
     },
     "execution_count": 124,
     "metadata": {},
     "output_type": "execute_result"
    }
   ],
   "source": [
    "freq"
   ]
  },
  {
   "cell_type": "markdown",
   "metadata": {},
   "source": [
    "Otra Manera de proceder de forma mas sencilla en con una suma directa:\n"
   ]
  },
  {
   "cell_type": "code",
   "execution_count": 125,
   "metadata": {
    "collapsed": false
   },
   "outputs": [],
   "source": [
    "fr=[0]*10\n",
    "for n in list(range(len(random_numbers))):\n",
    "    for k in list(range(10)):\n",
    "        if random_numbers[n]==k:\n",
    "            fr[k]= fr[k]+ 1\n",
    "  \n",
    "        \n",
    "        \n",
    "    "
   ]
  },
  {
   "cell_type": "code",
   "execution_count": 126,
   "metadata": {
    "collapsed": false
   },
   "outputs": [
    {
     "data": {
      "text/plain": [
       "[1078, 1009, 988, 1013, 1013, 998, 991, 1052, 946, 912]"
      ]
     },
     "execution_count": 126,
     "metadata": {},
     "output_type": "execute_result"
    }
   ],
   "source": [
    "fr"
   ]
  },
  {
   "cell_type": "markdown",
   "metadata": {},
   "source": [
    "---"
   ]
  }
 ],
 "metadata": {
  "anaconda-cloud": {},
  "kernelspec": {
   "display_name": "Python 3",
   "language": "python",
   "name": "python3"
  },
  "language_info": {
   "codemirror_mode": {
    "name": "ipython",
    "version": 3
   },
   "file_extension": ".py",
   "mimetype": "text/x-python",
   "name": "python",
   "nbconvert_exporter": "python",
   "pygments_lexer": "ipython3",
   "version": "3.6.0"
  }
 },
 "nbformat": 4,
 "nbformat_minor": 0
}
