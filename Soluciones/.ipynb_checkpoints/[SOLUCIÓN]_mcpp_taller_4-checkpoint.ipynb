{
 "cells": [
  {
   "cell_type": "markdown",
   "metadata": {},
   "source": [
    "# Taller 4\n",
    "Métodos Computacionales para Políticas Públicas - URosario\n",
    "\n",
    "**Entrega: viernes 31-ago-2018 11:59 PM**"
   ]
  },
  {
   "cell_type": "markdown",
   "metadata": {},
   "source": [
    "<div class=\"alert alert-success\">\n",
    "**[xxx]** <br><br>\n",
    "[...@urosario.edu.co]\n",
    "</div>"
   ]
  },
  {
   "cell_type": "markdown",
   "metadata": {},
   "source": [
    "## Instrucciones:\n",
    "- Guarde una copia de este *Jupyter Notebook* en su computador, idealmente en una carpeta destinada al material del curso.\n",
    "- Modifique el nombre del archivo del *notebook*, agregando al final un guión inferior y su nombre y apellido, separados estos últimos por otro guión inferior. Por ejemplo, mi *notebook* se llamaría: mcpp_taller4_santiago_matallana\n",
    "- Marque el *notebook* con su nombre y e-mail en el bloque verde arriba. Reemplace el texto \"[Su nombre acá]\" con su nombre y apellido. Similar para su e-mail.\n",
    "- Desarrolle la totalidad del taller sobre este *notebook*, insertando las celdas que sea necesario debajo de cada pregunta. Haga buen uso de las celdas para código y de las celdas tipo *markdown* según el caso.\n",
    "- Recuerde salvar periódicamente sus avances.\n",
    "- Cuando termine el taller:\n",
    "    1. Descárguelo en PDF.\n",
    "    2. Suba los dos archivos (.pdf y .ipynb) a su repositorio en GitHub antes de la fecha y hora límites.\n",
    "\n",
    "(Todos los ejercicios tienen el mismo valor.)"
   ]
  },
  {
   "cell_type": "markdown",
   "metadata": {},
   "source": [
    "---"
   ]
  },
  {
   "cell_type": "markdown",
   "metadata": {},
   "source": [
    "## Zelle, Exercises 6.8 (p. 159):\n",
    "\n",
    "- True/False: 1-10\n",
    "- Multiple choice: 2, 3, 6, 7, 10\n",
    "- Programming Exercises: 1, 3, 4, 11, 12, 13"
   ]
  },
  {
   "cell_type": "markdown",
   "metadata": {},
   "source": [
    "Primera Parte: Preguntas de Verdadero y Falso\n",
    "    1. Falso\n",
    "    2. Falso\n",
    "    3. Verdadero\n",
    "    4. Verdadero\n",
    "    5. Falso\n",
    "    6. Falso\n",
    "    7. Falso\n",
    "    8. Verdadero\n",
    "    9. Verdadero\n",
    "    10. Falso\n",
    "    "
   ]
  },
  {
   "cell_type": "markdown",
   "metadata": {},
   "source": [
    "Segunda Parte: Selección Multiple:\n",
    " 2. def\n",
    " 3. return\n",
    " 6. Value\n",
    " 7. Demonstrate intellecutal superiority\n",
    " 10. Mutable\n",
    " "
   ]
  },
  {
   "cell_type": "markdown",
   "metadata": {},
   "source": [
    "Tercera Parte: Programación\n"
   ]
  },
  {
   "cell_type": "markdown",
   "metadata": {},
   "source": [
    "##1). Write a program to print the lyrics of the song \"Old MacDonald\". Your program should print the lyrics for five different animals, similar to the example verse below.\n",
    "  \n",
    "  \n",
    " Old MacDonald had a farm, Ee-igh, Ee-igh, Oh! \n",
    " \n",
    " And on that farm he had a cow, Ee-igh, Ee-igh, Oh!\n",
    " \n",
    " With a moo, moo here and moo, moo there.\n",
    " \n",
    " Here a moo, there a moo, everywhere a moo, moo.\n",
    " \n",
    " Old MacDonald had a farm, Ee-igh, Ee-igh, Oh!"
   ]
  },
  {
   "cell_type": "code",
   "execution_count": 61,
   "metadata": {},
   "outputs": [],
   "source": [
    "def cancion(animal,ruido):\n",
    "    \n",
    "    ##los elementos animal y ruido deben ser strings\n",
    "    print(\"Old MacDonald had a farm,Ee-igh, Ee-igh, Oh!\",\"\\n\" , \"And on that farm he had a \" , str(animal) , \", Ee-igh, Ee-igh, Oh!\" , \"\\n\" ,\"With a \", str(ruido), \", \",str(ruido),\" here and \",str(ruido), \", \", str(ruido),\" there.\",\"\\n\",\"Here a \", str(ruido) ,\", there a \",str(ruido),\", everywhere a \",str(ruido),\", \",str(ruido),\".\",\"\\n\",\"Old MacDonald had a farm, Ee-igh, Ee-igh, Oh!\")\n",
    "\n",
    "\n",
    "\n"
   ]
  },
  {
   "cell_type": "code",
   "execution_count": 68,
   "metadata": {},
   "outputs": [
    {
     "name": "stdout",
     "output_type": "stream",
     "text": [
      "Old MacDonald had a farm,Ee-igh, Ee-igh, Oh! \n",
      " And on that farm he had a  Charmander , Ee-igh, Ee-igh, Oh! \n",
      " With a  Charma ,  Charma  here and  Charma ,  Charma  there. \n",
      " Here a  Charma , there a  Charma , everywhere a  Charma ,  Charma . \n",
      " Old MacDonald had a farm, Ee-igh, Ee-igh, Oh!\n",
      "\n",
      "\n",
      "Old MacDonald had a farm,Ee-igh, Ee-igh, Oh! \n",
      " And on that farm he had a  Golbat , Ee-igh, Ee-igh, Oh! \n",
      " With a  Gol ,  Gol  here and  Gol ,  Gol  there. \n",
      " Here a  Gol , there a  Gol , everywhere a  Gol ,  Gol . \n",
      " Old MacDonald had a farm, Ee-igh, Ee-igh, Oh!\n",
      "\n",
      "\n",
      "Old MacDonald had a farm,Ee-igh, Ee-igh, Oh! \n",
      " And on that farm he had a  Pikachu , Ee-igh, Ee-igh, Oh! \n",
      " With a  pikapika ,  pikapika  here and  pikapika ,  pikapika  there. \n",
      " Here a  pikapika , there a  pikapika , everywhere a  pikapika ,  pikapika . \n",
      " Old MacDonald had a farm, Ee-igh, Ee-igh, Oh!\n",
      "\n",
      "\n",
      "Old MacDonald had a farm,Ee-igh, Ee-igh, Oh! \n",
      " And on that farm he had a  Squartle , Ee-igh, Ee-igh, Oh! \n",
      " With a  scua ,  scua  here and  scua ,  scua  there. \n",
      " Here a  scua , there a  scua , everywhere a  scua ,  scua . \n",
      " Old MacDonald had a farm, Ee-igh, Ee-igh, Oh!\n",
      "\n",
      "\n",
      "Old MacDonald had a farm,Ee-igh, Ee-igh, Oh! \n",
      " And on that farm he had a  Eeeve , Ee-igh, Ee-igh, Oh! \n",
      " With a  eiff ,  eiff  here and  eiff ,  eiff  there. \n",
      " Here a  eiff , there a  eiff , everywhere a  eiff ,  eiff . \n",
      " Old MacDonald had a farm, Ee-igh, Ee-igh, Oh!\n",
      "\n",
      "\n",
      "Old MacDonald had a farm,Ee-igh, Ee-igh, Oh! \n",
      " And on that farm he had a  Geodolo , Ee-igh, Ee-igh, Oh! \n",
      " With a  gio ,  gio  here and  gio ,  gio  there. \n",
      " Here a  gio , there a  gio , everywhere a  gio ,  gio . \n",
      " Old MacDonald had a farm, Ee-igh, Ee-igh, Oh!\n",
      "\n",
      "\n",
      "Old MacDonald had a farm,Ee-igh, Ee-igh, Oh! \n",
      " And on that farm he had a  Bullbasur , Ee-igh, Ee-igh, Oh! \n",
      " With a  bulba ,  bulba  here and  bulba ,  bulba  there. \n",
      " Here a  bulba , there a  bulba , everywhere a  bulba ,  bulba . \n",
      " Old MacDonald had a farm, Ee-igh, Ee-igh, Oh!\n",
      "\n",
      "\n",
      "Old MacDonald had a farm,Ee-igh, Ee-igh, Oh! \n",
      " And on that farm he had a  Onix , Ee-igh, Ee-igh, Oh! \n",
      " With a  ouou ,  ouou  here and  ouou ,  ouou  there. \n",
      " Here a  ouou , there a  ouou , everywhere a  ouou ,  ouou . \n",
      " Old MacDonald had a farm, Ee-igh, Ee-igh, Oh!\n",
      "\n",
      "\n",
      "Old MacDonald had a farm,Ee-igh, Ee-igh, Oh! \n",
      " And on that farm he had a  Aerodactyl , Ee-igh, Ee-igh, Oh! \n",
      " With a  aighh ,  aighh  here and  aighh ,  aighh  there. \n",
      " Here a  aighh , there a  aighh , everywhere a  aighh ,  aighh . \n",
      " Old MacDonald had a farm, Ee-igh, Ee-igh, Oh!\n",
      "\n",
      "\n",
      "Old MacDonald had a farm,Ee-igh, Ee-igh, Oh! \n",
      " And on that farm he had a  Butterfly , Ee-igh, Ee-igh, Oh! \n",
      " With a  errrr ,  errrr  here and  errrr ,  errrr  there. \n",
      " Here a  errrr , there a  errrr , everywhere a  errrr ,  errrr . \n",
      " Old MacDonald had a farm, Ee-igh, Ee-igh, Oh!\n",
      "\n",
      "\n"
     ]
    }
   ],
   "source": [
    "animales=[\"Charmander\",\"Golbat\",\"Pikachu\",\"Squartle\",\"Eeeve\",\"Geodolo\",\"Bullbasur\",\"Onix\",\"Aerodactyl\",\"Butterfly\"]\n",
    "ruido=[\"Charma\",\"Gol\",\"pikapika\",\"scua\",\"eiff\",\"gio\",\"bulba\",\"ouou\",\"aighh\",\"errrr\"]\n",
    "\n",
    "for i in list(range(len(animales))):\n",
    "    cancion(animales[i],ruido[i])\n",
    "    print(\"\\n\")\n"
   ]
  },
  {
   "cell_type": "markdown",
   "metadata": {},
   "source": [
    "##3). Write definitions for these functions:\n",
    "  \n",
    "  sphereArea(radius)## Returns the surface area of a sphere having the given radius\n",
    "  \n",
    "  sphereVolume(radius)##Returns the Volume of a sphere having the given radius.\n",
    "  \n",
    "  ** use your functions to solve the next exercise:\n",
    "  \n",
    "  Write a program to calculate the Volume and surface area of a sphere from its radius, given as input. Here are some formulas that might be useful:\n",
    "  \n",
    "       V=(4/3)*pi (r^3)\n",
    "       A=4*pi*(r^2)\n",
    "  \n",
    "  "
   ]
  },
  {
   "cell_type": "code",
   "execution_count": 72,
   "metadata": {},
   "outputs": [],
   "source": [
    " ## sphereArea() para un nivel de radio da el valor del area de la superficie de una esfera\n",
    "    ## sphereVolume() para un radio dado retorna el volumen de la esfera"
   ]
  },
  {
   "cell_type": "code",
   "execution_count": 96,
   "metadata": {
    "collapsed": true
   },
   "outputs": [],
   "source": [
    "from math import pi\n",
    "\n",
    "def sphereArea(r):\n",
    "    print(\"para un nivel de radio da el valor del area de la superficie de una esfera\")\n",
    "    A= (4)*pi*(r**2)\n",
    "    return A\n"
   ]
  },
  {
   "cell_type": "code",
   "execution_count": 97,
   "metadata": {},
   "outputs": [
    {
     "name": "stdout",
     "output_type": "stream",
     "text": [
      "para un nivel de radio da el valor del area de la superficie de una esfera\n"
     ]
    },
    {
     "data": {
      "text/plain": [
       "50.26548245743669"
      ]
     },
     "execution_count": 97,
     "metadata": {},
     "output_type": "execute_result"
    }
   ],
   "source": [
    "sphereArea(2)\n"
   ]
  },
  {
   "cell_type": "code",
   "execution_count": 98,
   "metadata": {
    "collapsed": true
   },
   "outputs": [],
   "source": [
    "def sphereVolume(r):\n",
    "    print(\"para un radio dado retorna el volumen de la esfera\")\n",
    "    V= (4/3)*pi*(r**3)\n",
    "    return V"
   ]
  },
  {
   "cell_type": "code",
   "execution_count": 99,
   "metadata": {},
   "outputs": [
    {
     "name": "stdout",
     "output_type": "stream",
     "text": [
      "para un radio dado retorna el volumen de la esfera\n"
     ]
    },
    {
     "data": {
      "text/plain": [
       "33.510321638291124"
      ]
     },
     "execution_count": 99,
     "metadata": {},
     "output_type": "execute_result"
    }
   ],
   "source": [
    "sphereVolume(2)"
   ]
  },
  {
   "cell_type": "markdown",
   "metadata": {},
   "source": [
    "##4). Write definitions for the folowwing two functions:\n",
    "   \n",
    "   sumN(n) returns the sum of the first n natural numbers.\n",
    "   \n",
    "   sumNCube(n) returns the sum of the cubes of the first n natural numbers.\n",
    "   \n",
    "Then use these functions to prompts a user for n and prints out the sum of the first n natural numbers and the sum of the cubes of the first n natural numbers"
   ]
  },
  {
   "cell_type": "code",
   "execution_count": null,
   "metadata": {
    "collapsed": true
   },
   "outputs": [],
   "source": [
    "##sumN(n) constante que suma los primeros N numeros naturales de una lista\n",
    "##umNCube(n) Constante que suma la potencia cubica de los primeros N numeros naturales\n",
    "\n"
   ]
  },
  {
   "cell_type": "code",
   "execution_count": 108,
   "metadata": {
    "collapsed": true
   },
   "outputs": [],
   "source": [
    " def sumN(n):\n",
    "        x=sum(list(range(n+1)))\n",
    "        return x"
   ]
  },
  {
   "cell_type": "code",
   "execution_count": 109,
   "metadata": {},
   "outputs": [
    {
     "data": {
      "text/plain": [
       "55"
      ]
     },
     "execution_count": 109,
     "metadata": {},
     "output_type": "execute_result"
    }
   ],
   "source": [
    "sumN(10)\n"
   ]
  },
  {
   "cell_type": "code",
   "execution_count": 125,
   "metadata": {},
   "outputs": [],
   "source": [
    "def sumNCube(n):\n",
    "    x=list(range(n+1))\n",
    "    for i in list(range(len(x))):\n",
    "        x[i]=x[i]**3\n",
    "    \n",
    "    return sum(x)\n",
    "\n"
   ]
  },
  {
   "cell_type": "code",
   "execution_count": 126,
   "metadata": {},
   "outputs": [
    {
     "data": {
      "text/plain": [
       "225"
      ]
     },
     "execution_count": 126,
     "metadata": {},
     "output_type": "execute_result"
    }
   ],
   "source": [
    "sumNCube(5)"
   ]
  },
  {
   "cell_type": "markdown",
   "metadata": {},
   "source": [
    "##11). Write and test a function to meet this specification.\n",
    "\n",
    " squareEach(nums) nums is a list of numbers. Modifies the list by squaring each entry."
   ]
  },
  {
   "cell_type": "code",
   "execution_count": 1,
   "metadata": {},
   "outputs": [],
   "source": [
    "def squareEach(nums):\n",
    "    print(\"Retorna Cada elemento de la lista al cuadrado\")\n",
    "   \n",
    "    for i in list(range(len(nums))):\n",
    "        nums[i]=nums[i]**2\n",
    "    \n",
    "    return nums\n",
    "\n"
   ]
  },
  {
   "cell_type": "code",
   "execution_count": null,
   "metadata": {},
   "outputs": [],
   "source": []
  },
  {
   "cell_type": "code",
   "execution_count": 2,
   "metadata": {},
   "outputs": [
    {
     "name": "stdout",
     "output_type": "stream",
     "text": [
      "Retorna Cada elemento de la lista al cuadrado\n"
     ]
    },
    {
     "data": {
      "text/plain": [
       "[1, 4, 9, 16, 25]"
      ]
     },
     "execution_count": 2,
     "metadata": {},
     "output_type": "execute_result"
    }
   ],
   "source": [
    "squareEach([1,2,3,4,5])"
   ]
  },
  {
   "cell_type": "code",
   "execution_count": null,
   "metadata": {},
   "outputs": [],
   "source": []
  },
  {
   "cell_type": "markdown",
   "metadata": {},
   "source": [
    "##12). Write and test a function to meet this specification.\n",
    " \n",
    " sumList(nums) nums is a list of numbers. Returns the sum of the numbers in the list."
   ]
  },
  {
   "cell_type": "code",
   "execution_count": 173,
   "metadata": {},
   "outputs": [],
   "source": [
    "def sumList(nums):\n",
    "    print(\"Retorna suma acumulada de la lista\")\n",
    "    \n",
    "    for i in list(range(1,len(nums))):\n",
    "        nums[i]=nums[i]+nums[i-1]\n",
    "    \n",
    "    return nums"
   ]
  },
  {
   "cell_type": "code",
   "execution_count": 1,
   "metadata": {},
   "outputs": [
    {
     "ename": "NameError",
     "evalue": "name 'sumList' is not defined",
     "output_type": "error",
     "traceback": [
      "\u001b[1;31m---------------------------------------------------------------------------\u001b[0m",
      "\u001b[1;31mNameError\u001b[0m                                 Traceback (most recent call last)",
      "\u001b[1;32m<ipython-input-1-b2489617fe8b>\u001b[0m in \u001b[0;36m<module>\u001b[1;34m()\u001b[0m\n\u001b[1;32m----> 1\u001b[1;33m \u001b[0msumList\u001b[0m\u001b[1;33m(\u001b[0m\u001b[1;33m[\u001b[0m\u001b[1;36m1\u001b[0m\u001b[1;33m,\u001b[0m\u001b[1;36m2\u001b[0m\u001b[1;33m,\u001b[0m\u001b[1;36m3\u001b[0m\u001b[1;33m,\u001b[0m\u001b[1;36m4\u001b[0m\u001b[1;33m,\u001b[0m\u001b[1;36m5\u001b[0m\u001b[1;33m]\u001b[0m\u001b[1;33m)\u001b[0m\u001b[1;33m\u001b[0m\u001b[0m\n\u001b[0m",
      "\u001b[1;31mNameError\u001b[0m: name 'sumList' is not defined"
     ]
    }
   ],
   "source": [
    "sumList([1,2,3,4,5])"
   ]
  },
  {
   "cell_type": "markdown",
   "metadata": {},
   "source": [
    "##13). Write and test a function to meet this specification:\n",
    " \n",
    " toNumbers(strlList) strList is a list of strings, each of which represents a number. Modifies each entry in the list by converting it to number."
   ]
  },
  {
   "cell_type": "code",
   "execution_count": 177,
   "metadata": {},
   "outputs": [],
   "source": [
    "def toNumbers(nums):\n",
    "    print(\"Retorna una lista de tipo int, para una lista str\")\n",
    "    \n",
    "    for i in list(range(len(nums))):\n",
    "        nums[i]=int(nums[i])\n",
    "    \n",
    "    return nums"
   ]
  },
  {
   "cell_type": "code",
   "execution_count": 178,
   "metadata": {},
   "outputs": [
    {
     "name": "stdout",
     "output_type": "stream",
     "text": [
      "Retorna una lista de tipo int, para una lista str\n"
     ]
    },
    {
     "data": {
      "text/plain": [
       "[1, 2, 3, 4, 5]"
      ]
     },
     "execution_count": 178,
     "metadata": {},
     "output_type": "execute_result"
    }
   ],
   "source": [
    "toNumbers([\"1\",\"2\",\"3\",\"4\",\"5\"])"
   ]
  },
  {
   "cell_type": "markdown",
   "metadata": {},
   "source": [
    "---"
   ]
  }
 ],
 "metadata": {
  "anaconda-cloud": {},
  "kernelspec": {
   "display_name": "Python 3",
   "language": "python",
   "name": "python3"
  },
  "language_info": {
   "codemirror_mode": {
    "name": "ipython",
    "version": 3
   },
   "file_extension": ".py",
   "mimetype": "text/x-python",
   "name": "python",
   "nbconvert_exporter": "python",
   "pygments_lexer": "ipython3",
   "version": "3.6.5"
  }
 },
 "nbformat": 4,
 "nbformat_minor": 1
}
