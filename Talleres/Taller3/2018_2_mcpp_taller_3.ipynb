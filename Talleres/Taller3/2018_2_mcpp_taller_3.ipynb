{
 "cells": [
  {
   "cell_type": "markdown",
   "metadata": {},
   "source": [
    "# Taller 3\n",
    "Métodos Computacionales para Políticas Públicas - URosario\n",
    "\n",
    "**Entrega: viernes 24-Ago-2018 11:59 PM**"
   ]
  },
  {
   "cell_type": "markdown",
   "metadata": {},
   "source": [
    "<div class=\"alert alert-success\">\n",
    "**[Su nombre acá]** <br><br>\n",
    "[Su e-mail acá]\n",
    "</div>"
   ]
  },
  {
   "cell_type": "markdown",
   "metadata": {},
   "source": [
    "## Instrucciones:\n",
    "- Guarde una copia de este *Jupyter Notebook* en su computador, idealmente en una carpeta destinada al material del curso.\n",
    "- Modifique el nombre del archivo del *notebook*, agregando al final un guión inferior y su nombre y apellido, separados estos últimos por otro guión inferior. Por ejemplo, mi *notebook* se llamaría: mcpp_taller3_santiago_matallana\n",
    "- Marque el *notebook* con su nombre y e-mail en el bloque verde arriba. Reemplace el texto \"[Su nombre acá]\" con su nombre y apellido. Similar para su e-mail.\n",
    "- Desarrolle la totalidad del taller sobre este *notebook*, insertando las celdas que sea necesario debajo de cada pregunta. Haga buen uso de las celdas para código y de las celdas tipo *markdown* según el caso.\n",
    "- Recuerde salvar periódicamente sus avances.\n",
    "- Cuando termine el taller:\n",
    "    1. Descárguelo en PDF.\n",
    "    2. Suba los dos archivos (.pdf y .ipynb) a su repositorio en GitHub antes de la fecha y hora límites.\n",
    "\n",
    "(El valor de cada ejercicio está en corchetes [ ] después del número de ejercicio.)"
   ]
  },
  {
   "cell_type": "markdown",
   "metadata": {},
   "source": [
    "---"
   ]
  },
  {
   "cell_type": "markdown",
   "metadata": {},
   "source": [
    "Antes de iniciar, por favor descarge el archivo <font face=\"consolas\" color=\"green\">2018_2_mcpp_taller_3_listas_ejemplos.py</font> del repositorio, guárdelo en la misma carpeta en la que está trabajando este taller y ejecútelo con el siguiente comando:"
   ]
  },
  {
   "cell_type": "raw",
   "metadata": {},
   "source": [
    "run 2018_2_mcpp_taller_3_listas_ejemplos.py"
   ]
  },
  {
   "cell_type": "markdown",
   "metadata": {},
   "source": [
    "Este archivo contiene tres listas (<font face=\"consolas\" color=\"green\">l0</font>, <font face=\"consolas\" color=\"green\">l1</font> y <font face=\"consolas\" color=\"green\">l2</font>) que usará para las tareas de esta sección. Puede ver los valores de las listas simplemente escribiendo sus nombres y ejecutándolos en el Notebook. Inténtelo para verificar que <font face=\"consolas\" color=\"green\">2018_2_mcpp_taller_3_listas_ejemplos.py</font> quedó bien cargado. Debería ver:"
   ]
  },
  {
   "cell_type": "markdown",
   "metadata": {},
   "source": [
    "In [1]: l0\n",
    "Out[1]: []\n",
    "\n",
    "In [2]: l1\n",
    "Out[2]: [1, 'abc', 5.7, [1, 3, 5]]\n",
    "\n",
    "In [3]: l2\n",
    "Out[3]: [10, 11, 12, 13, 14, 15, 16]"
   ]
  },
  {
   "cell_type": "markdown",
   "metadata": {},
   "source": [
    "## 1. [1]\n",
    "\n",
    "Cree una lista que contenga los elementos <font face=\"consolas\">7</font>, <font face=\"consolas\">\"xyz\"</font> y <font face=\"consolas\">2.7</font>."
   ]
  },
  {
   "cell_type": "markdown",
   "metadata": {},
   "source": [
    "## 2. [1]\n",
    "\n",
    "Halle la longitud de la lista <font face=\"consolas\">l1</font>."
   ]
  },
  {
   "cell_type": "markdown",
   "metadata": {},
   "source": [
    "## 3. [1]\n",
    "\n",
    "Escriba expresiones para obtener el valor <font face=\"consolas\">5.7</font> de la lista <font face=\"consolas\">l1</font> y para obtener el valor <font face=\"consolas\">5</font> a partir del cuarto elemento de <font face=\"consolas\">l1</font>."
   ]
  },
  {
   "cell_type": "markdown",
   "metadata": {},
   "source": [
    "## 4. [1]\n",
    "\n",
    "Prediga qué ocurrirá si se evalúa la expresión <font face=\"consolas\">l1[4]</font> y luego pruébelo."
   ]
  },
  {
   "cell_type": "markdown",
   "metadata": {},
   "source": [
    "## 5. [1]\n",
    "\n",
    "Prediga qué ocurrirá si se evalúa la expresión <font face=\"consolas\">l2[-1]</font> y luego pruébelo."
   ]
  },
  {
   "cell_type": "markdown",
   "metadata": {},
   "source": [
    "## 6. [1]\n",
    "\n",
    "Escriba una expresión para cambiar el valor <font face=\"consolas\">3</font> en el cuarto elemento de <font face=\"consolas\">l1</font> a <font face=\"consolas\">15.0</font>."
   ]
  },
  {
   "cell_type": "markdown",
   "metadata": {},
   "source": [
    "## 7. [1]\n",
    "\n",
    "Escriba una expresión para crear un \"slice\" que contenga del segundo al quinto elemento (inclusive) de la lista <font face=\"consolas\">l2</font>."
   ]
  },
  {
   "cell_type": "markdown",
   "metadata": {},
   "source": [
    "## 8. [1]\n",
    "\n",
    "Escriba una expresión para crear un \"slice\" que contenga los primeros tres elementos de la lista <font face=\"consolas\">l2</font>."
   ]
  },
  {
   "cell_type": "markdown",
   "metadata": {},
   "source": [
    "## 9. [1]\n",
    "\n",
    "Escriba una expresión para crear un \"slice\" que contenga del segundo al último elemento de la lista <font face=\"consolas\">l2</font>."
   ]
  },
  {
   "cell_type": "markdown",
   "metadata": {},
   "source": [
    "## 10. [1]\n",
    "\n",
    "Escriba un código para añadir cuatro elementos a la lista <font face=\"consolas\">l0</font> usando la operación <font face=\"consolas\">append</font> y luego extraiga el tercer elemento (quítelo de la lista). ¿Cuántos \"appends\" debe hacer?"
   ]
  },
  {
   "cell_type": "markdown",
   "metadata": {},
   "source": [
    "## 11. [1]\n",
    "\n",
    "Cree una nueva lista <font face=\"consolas\">nl</font> concatenando la nueva versión de <font face=\"consolas\">l0</font> con <font face=\"consolas\">l1</font>, y luego actualice un elemento cualquiera de <font face=\"consolas\">nl</font>. ¿Cambia alguna de las listas <font face=\"consolas\">l0</font> o <font face=\"consolas\">l1</font> al ejecutar los anteriores comandos?"
   ]
  },
  {
   "cell_type": "markdown",
   "metadata": {},
   "source": [
    "## 12. [2]\n",
    "\n",
    "Escriba un loop que compute una variable <font face=\"consolas\">all_pos</font> cuyo valor sea <font face=\"consolas\">True</font> si todos los elementos de la lista <font face=\"consolas\">l3</font> son positivos y <font face=\"consolas\">False</font> en otro caso."
   ]
  },
  {
   "cell_type": "markdown",
   "metadata": {},
   "source": [
    "## 13. [2]\n",
    "\n",
    "Escriba un código para crear una nueva lista que contenga solo los valores positivos de la lista <font face=\"consolas\">l3</font>."
   ]
  },
  {
   "cell_type": "markdown",
   "metadata": {},
   "source": [
    "## 14. [2]\n",
    "\n",
    "Escriba un código que use <font face=\"consolas\">append</font> para crear una nueva lista <font face=\"consolas\">nl</font> en la que el i-ésimo elemento de <font face=\"consolas\">nl</font> tiene el valor <font face=\"consolas\">True</font> si el i-ésimo elemento de <font face=\"consolas\">l3</font> tiene un valor positivo y <font face=\"consolas\">Falso</font> en otro caso."
   ]
  },
  {
   "cell_type": "markdown",
   "metadata": {},
   "source": [
    "## 15. [3]\n",
    "\n",
    "Escriba un código que use <font face=\"consolas\">range</font>, para crear una nueva lista <font face=\"consolas\">nl</font> en la que el i-ésimo elemento de <font face=\"consolas\">nl</font> es <font face=\"consolas\">True</font> si el i-ésimo elemento de <font face=\"consolas\">l3</font> es positivo y <font face=\"consolas\">False</font> en otro caso.\n",
    "\n",
    "**Pista:** Comience por crear una lista de longitud adecuada, con <font face=\"consolas\">False</font> en cada elemento."
   ]
  },
  {
   "cell_type": "markdown",
   "metadata": {},
   "source": [
    "## 16. [4]\n",
    "\n",
    "En clase construimos una lista con 10000 números aleatorios entre 0 y 9, a partir del siguiente código:"
   ]
  },
  {
   "cell_type": "raw",
   "metadata": {},
   "source": [
    "import random\n",
    "\n",
    "N = 10000  \n",
    "random_numbers = []\n",
    "for i in range(N):\n",
    "    random_numbers.append(random.randint(0,9))"
   ]
  },
  {
   "cell_type": "markdown",
   "metadata": {},
   "source": [
    "Y creamos un \"contador\" que calcula la frecuencia de ocurrencia de cada número del 0 al 9, así:"
   ]
  },
  {
   "cell_type": "raw",
   "metadata": {},
   "source": [
    "count = []\n",
    "for x in range(0,10):\n",
    "    count.append(random_numbers.count(x))"
   ]
  },
  {
   "cell_type": "markdown",
   "metadata": {},
   "source": [
    "Cree un \"contador\" que haga lo mismo, pero sin hacer uso del método \"count\". (De hecho, sin usar método alguno.)"
   ]
  },
  {
   "cell_type": "markdown",
   "metadata": {},
   "source": [
    "**Pistas:**\n",
    "\n",
    "- Esto puede lograrse con un loop muy sencillo. Si su código es complejo, piense el problema de nuevo.\n",
    "- Es muy útil iniciar con una lista \"vacía\" de 10 elementos. Es decir, una lista con 10 ceros."
   ]
  },
  {
   "cell_type": "markdown",
   "metadata": {},
   "source": [
    "---"
   ]
  }
 ],
 "metadata": {
  "anaconda-cloud": {},
  "kernelspec": {
   "display_name": "Python 3",
   "language": "python",
   "name": "python3"
  },
  "language_info": {
   "codemirror_mode": {
    "name": "ipython",
    "version": 3
   },
   "file_extension": ".py",
   "mimetype": "text/x-python",
   "name": "python",
   "nbconvert_exporter": "python",
   "pygments_lexer": "ipython3",
   "version": "3.6.0"
  }
 },
 "nbformat": 4,
 "nbformat_minor": 0
}
