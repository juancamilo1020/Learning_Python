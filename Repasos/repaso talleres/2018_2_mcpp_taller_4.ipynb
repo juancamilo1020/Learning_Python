{
 "cells": [
  {
   "cell_type": "markdown",
   "metadata": {},
   "source": [
    "# Taller 4\n",
    "Métodos Computacionales para Políticas Públicas - URosario\n",
    "\n",
    "**Entrega: viernes 31-ago-2018 11:59 PM**"
   ]
  },
  {
   "cell_type": "markdown",
   "metadata": {},
   "source": [
    "<div class=\"alert alert-success\">\n",
    "**[Su nombre acá]** <br><br>\n",
    "[Su e-mail acá]\n",
    "</div>"
   ]
  },
  {
   "cell_type": "markdown",
   "metadata": {},
   "source": [
    "## Instrucciones:\n",
    "- Guarde una copia de este *Jupyter Notebook* en su computador, idealmente en una carpeta destinada al material del curso.\n",
    "- Modifique el nombre del archivo del *notebook*, agregando al final un guión inferior y su nombre y apellido, separados estos últimos por otro guión inferior. Por ejemplo, mi *notebook* se llamaría: mcpp_taller4_santiago_matallana\n",
    "- Marque el *notebook* con su nombre y e-mail en el bloque verde arriba. Reemplace el texto \"[Su nombre acá]\" con su nombre y apellido. Similar para su e-mail.\n",
    "- Desarrolle la totalidad del taller sobre este *notebook*, insertando las celdas que sea necesario debajo de cada pregunta. Haga buen uso de las celdas para código y de las celdas tipo *markdown* según el caso.\n",
    "- Recuerde salvar periódicamente sus avances.\n",
    "- Cuando termine el taller:\n",
    "    1. Descárguelo en PDF.\n",
    "    2. Suba los dos archivos (.pdf y .ipynb) a su repositorio en GitHub antes de la fecha y hora límites.\n",
    "\n",
    "(Todos los ejercicios tienen el mismo valor.)"
   ]
  },
  {
   "cell_type": "markdown",
   "metadata": {},
   "source": [
    "---"
   ]
  },
  {
   "cell_type": "markdown",
   "metadata": {},
   "source": [
    "## Zelle, Exercises 6.8 (p. 159):\n",
    "\n",
    "- True/False: 1-10\n",
    "- Multiple choice: 2, 3, 6, 7, 10\n",
    "- Programming Exercises: 1, 3, 4, 11, 12, 13"
   ]
  },
  {
   "cell_type": "markdown",
   "metadata": {},
   "source": [
    "Old MACDONALD had a farm, Ee-Igh-Ee-Igh-Oh!\n",
    "And on his farm he had a cow, Ee-Igh-Ee-Igh-Oh!\n",
    "With a moo moo here, And a moo moo there.\n",
    "Here a moo, there a moo. Everywhere a moo moo. \n",
    "Old MacDonald had a farm, Ee-Igh-Ee-Igh-Oh!"
   ]
  },
  {
   "cell_type": "code",
   "execution_count": 6,
   "metadata": {},
   "outputs": [],
   "source": [
    "def cancion(animal):\n",
    "    print(\"Old MACDONALD had a farm, Ee-Igh-Ee-Igh-Oh!\",\"\\n\",\"And on his farm he had a\", str(animal),\"Ee-Igh-Ee-Igh-Oh!\")"
   ]
  },
  {
   "cell_type": "code",
   "execution_count": 8,
   "metadata": {},
   "outputs": [
    {
     "name": "stdout",
     "output_type": "stream",
     "text": [
      "Old MACDONALD had a farm, Ee-Igh-Ee-Igh-Oh! \n",
      " And on his farm he had a Cat Ee-Igh-Ee-Igh-Oh!\n",
      "\n",
      "\n",
      "Old MACDONALD had a farm, Ee-Igh-Ee-Igh-Oh! \n",
      " And on his farm he had a Dog Ee-Igh-Ee-Igh-Oh!\n",
      "\n",
      "\n",
      "Old MACDONALD had a farm, Ee-Igh-Ee-Igh-Oh! \n",
      " And on his farm he had a Pig Ee-Igh-Ee-Igh-Oh!\n",
      "\n",
      "\n",
      "Old MACDONALD had a farm, Ee-Igh-Ee-Igh-Oh! \n",
      " And on his farm he had a Dolphin Ee-Igh-Ee-Igh-Oh!\n",
      "\n",
      "\n",
      "Old MACDONALD had a farm, Ee-Igh-Ee-Igh-Oh! \n",
      " And on his farm he had a fish Ee-Igh-Ee-Igh-Oh!\n",
      "\n",
      "\n"
     ]
    }
   ],
   "source": [
    "animales = [\"Cat\", \"Dog\", \"Pig\", \"Dolphin\", \"fish\"]\n",
    "\n",
    "for i in list(range(len(animales))):\n",
    "    cancion(animales[i])\n",
    "    print(\"\\n\")"
   ]
  },
  {
   "cell_type": "code",
   "execution_count": null,
   "metadata": {},
   "outputs": [],
   "source": []
  }
 ],
 "metadata": {
  "anaconda-cloud": {},
  "kernelspec": {
   "display_name": "Python 3",
   "language": "python",
   "name": "python3"
  },
  "language_info": {
   "codemirror_mode": {
    "name": "ipython",
    "version": 3
   },
   "file_extension": ".py",
   "mimetype": "text/x-python",
   "name": "python",
   "nbconvert_exporter": "python",
   "pygments_lexer": "ipython3",
   "version": "3.6.5"
  }
 },
 "nbformat": 4,
 "nbformat_minor": 1
}
