{
 "cells": [
  {
   "cell_type": "code",
   "execution_count": 1,
   "metadata": {},
   "outputs": [],
   "source": [
    "from random import randint"
   ]
  },
  {
   "cell_type": "code",
   "execution_count": null,
   "metadata": {},
   "outputs": [],
   "source": [
    "correct = False\n",
    "\n",
    "N = 100\n",
    "\n",
    "start = 0\n",
    "\n",
    "while correct == False:\n",
    "    \n",
    "    number = randint(start, N)\n",
    "    \n",
    "    response = input(\"\\n Si su número es \" + str(number) + \", escriba 1. De lo contrario, escriba 0. -----------> \")\n",
    "    \n",
    "    if response == \"0\":\n",
    "        \n",
    "        clue = input(\"Si el número es menor escriba MENOR. En caso contrario escriba MAYOR. -----------> \")\n",
    "        \n",
    "        if clue == \"MENOR\":\n",
    "            \n",
    "            N = number - 1\n",
    "            \n",
    "        elif clue == \"MAYOR\":\n",
    "            \n",
    "            start = number + 1\n",
    "            \n",
    "    elif response == \"1\":\n",
    "        \n",
    "        print(\"Adiviné!\")\n",
    "            \n",
    "        break"
   ]
  },
  {
   "cell_type": "code",
   "execution_count": null,
   "metadata": {},
   "outputs": [],
   "source": []
  }
 ],
 "metadata": {
  "kernelspec": {
   "display_name": "Python 3",
   "language": "python",
   "name": "python3"
  },
  "language_info": {
   "codemirror_mode": {
    "name": "ipython",
    "version": 3
   },
   "file_extension": ".py",
   "mimetype": "text/x-python",
   "name": "python",
   "nbconvert_exporter": "python",
   "pygments_lexer": "ipython3",
   "version": "3.6.5"
  }
 },
 "nbformat": 4,
 "nbformat_minor": 2
}
