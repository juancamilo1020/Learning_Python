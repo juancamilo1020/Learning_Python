{
 "cells": [
  {
   "cell_type": "code",
   "execution_count": 3,
   "metadata": {},
   "outputs": [],
   "source": [
    "from random import randint"
   ]
  },
  {
   "cell_type": "code",
   "execution_count": 4,
   "metadata": {},
   "outputs": [
    {
     "name": "stdout",
     "output_type": "stream",
     "text": [
      "\n",
      " Si su número es 25, escriba 1. De lo contrario, escriba 0. -----------> 0\n",
      "Si el número es menor escriba MENOR. En caso contrario escriba MAYOR. -----------> menor\n",
      "\n",
      " Si su número es 17, escriba 1. De lo contrario, escriba 0. -----------> 0\n",
      "Si el número es menor escriba MENOR. En caso contrario escriba MAYOR. -----------> mayo\n",
      "\n",
      " Si su número es 20, escriba 1. De lo contrario, escriba 0. -----------> 1\n",
      "Adiviné!\n"
     ]
    }
   ],
   "source": [
    "correct = False\n",
    "\n",
    "N = 100\n",
    "\n",
    "start = 0\n",
    "\n",
    "while correct == False:\n",
    "    \n",
    "    number = randint(start, N)\n",
    "    \n",
    "    response = input(\"\\n Si su número es \" + str(number) + \", escriba 1. De lo contrario, escriba 0. -----------> \")\n",
    "    \n",
    "    if response == \"0\":\n",
    "        \n",
    "        clue = input(\"Si el número es menor escriba MENOR. En caso contrario escriba MAYOR. -----------> \")\n",
    "        \n",
    "        if clue == \"MENOR\":\n",
    "            \n",
    "            N = number - 1\n",
    "            \n",
    "        elif clue == \"MAYOR\":\n",
    "            \n",
    "            start = number + 1\n",
    "            \n",
    "    elif response == \"1\":\n",
    "        \n",
    "        print(\"Adiviné!\")\n",
    "            \n",
    "        break"
   ]
  },
  {
   "cell_type": "code",
   "execution_count": 1,
   "metadata": {},
   "outputs": [
    {
     "name": "stdout",
     "output_type": "stream",
     "text": [
      "{'Juan': ['Pregrado Economía', 'Semestre 2', 'Maestría MEPP'], 'Ana': ['Pregrado Finanzas', 'Semestre 3', 'Maestría MEPP'], 'Sofía': ['Pregrado Arte', 'Semestre 4', 'Maestría MEPP']}\n"
     ]
    }
   ],
   "source": [
    "student_data = {\"Juan\":[\"Pregrado Economía\", \"Semestre 2\", \"Maestría MEPP\"], \n",
    "                \"Ana\":[\"Pregrado Finanzas\", \"Semestre 3\", \"Maestría MEPP\"],\n",
    "                \"Sofía\":[\"Pregrado Arte\", \"Semestre 4\", \"Maestría MEPP\"],\n",
    "                \"Juan D\":[\"Pregrado Economía\", \"Semestre 2\", \"Maestría MEPP\"],}\n",
    "\n",
    "\n",
    "result = {}\n",
    "\n",
    "for key,value in student_data.items():\n",
    "    if value not in result.values():\n",
    "        result[key] = value\n",
    "\n",
    "print(result)"
   ]
  },
  {
   "cell_type": "code",
   "execution_count": null,
   "metadata": {},
   "outputs": [],
   "source": []
  }
 ],
 "metadata": {
  "kernelspec": {
   "display_name": "Python 3",
   "language": "python",
   "name": "python3"
  },
  "language_info": {
   "codemirror_mode": {
    "name": "ipython",
    "version": 3
   },
   "file_extension": ".py",
   "mimetype": "text/x-python",
   "name": "python",
   "nbconvert_exporter": "python",
   "pygments_lexer": "ipython3",
   "version": "3.6.5"
  }
 },
 "nbformat": 4,
 "nbformat_minor": 2
}
