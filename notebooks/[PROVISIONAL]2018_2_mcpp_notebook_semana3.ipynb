{
 "cells": [
  {
   "cell_type": "markdown",
   "metadata": {},
   "source": [
    "# Estructuras de control"
   ]
  },
  {
   "cell_type": "markdown",
   "metadata": {},
   "source": [
    "## Condicionales"
   ]
  },
  {
   "cell_type": "code",
   "execution_count": 2,
   "metadata": {
    "collapsed": false
   },
   "outputs": [
    {
     "name": "stdout",
     "output_type": "stream",
     "text": [
      "Menor a siete\n"
     ]
    }
   ],
   "source": [
    "a = 5  # Defino variable a igual a 5\n",
    "if a < 7:\n",
    "    print('Menor a siete')"
   ]
  },
  {
   "cell_type": "markdown",
   "metadata": {},
   "source": [
    "Operadores lógicos o de comparación"
   ]
  },
  {
   "cell_type": "code",
   "execution_count": 4,
   "metadata": {
    "collapsed": false
   },
   "outputs": [
    {
     "data": {
      "text/plain": [
       "True"
      ]
     },
     "execution_count": 4,
     "metadata": {},
     "output_type": "execute_result"
    }
   ],
   "source": [
    "a == 5"
   ]
  },
  {
   "cell_type": "code",
   "execution_count": 5,
   "metadata": {
    "collapsed": false
   },
   "outputs": [
    {
     "data": {
      "text/plain": [
       "False"
      ]
     },
     "execution_count": 5,
     "metadata": {},
     "output_type": "execute_result"
    }
   ],
   "source": [
    "a < 5"
   ]
  },
  {
   "cell_type": "code",
   "execution_count": 6,
   "metadata": {
    "collapsed": false
   },
   "outputs": [
    {
     "data": {
      "text/plain": [
       "False"
      ]
     },
     "execution_count": 6,
     "metadata": {},
     "output_type": "execute_result"
    }
   ],
   "source": [
    "a > 5"
   ]
  },
  {
   "cell_type": "code",
   "execution_count": 7,
   "metadata": {
    "collapsed": false
   },
   "outputs": [
    {
     "data": {
      "text/plain": [
       "True"
      ]
     },
     "execution_count": 7,
     "metadata": {},
     "output_type": "execute_result"
    }
   ],
   "source": [
    "a > 3"
   ]
  },
  {
   "cell_type": "code",
   "execution_count": 8,
   "metadata": {
    "collapsed": false
   },
   "outputs": [
    {
     "data": {
      "text/plain": [
       "True"
      ]
     },
     "execution_count": 8,
     "metadata": {},
     "output_type": "execute_result"
    }
   ],
   "source": [
    "a <= 5"
   ]
  },
  {
   "cell_type": "markdown",
   "metadata": {},
   "source": [
    "Importante comentar nuestro código (#)"
   ]
  },
  {
   "cell_type": "code",
   "execution_count": 9,
   "metadata": {
    "collapsed": false
   },
   "outputs": [
    {
     "data": {
      "text/plain": [
       "True"
      ]
     },
     "execution_count": 9,
     "metadata": {},
     "output_type": "execute_result"
    }
   ],
   "source": [
    "a != 10  # Valida si a es diferente de 10"
   ]
  },
  {
   "cell_type": "code",
   "execution_count": 10,
   "metadata": {
    "collapsed": true
   },
   "outputs": [],
   "source": [
    "a = 10  # Notemos que = no es un operador lógico; se usa para asignación"
   ]
  },
  {
   "cell_type": "code",
   "execution_count": 11,
   "metadata": {
    "collapsed": false
   },
   "outputs": [
    {
     "data": {
      "text/plain": [
       "10"
      ]
     },
     "execution_count": 11,
     "metadata": {},
     "output_type": "execute_result"
    }
   ],
   "source": [
    "a"
   ]
  },
  {
   "cell_type": "markdown",
   "metadata": {},
   "source": [
    "Volviendo a condicionales"
   ]
  },
  {
   "cell_type": "code",
   "execution_count": 12,
   "metadata": {
    "collapsed": false
   },
   "outputs": [
    {
     "name": "stdout",
     "output_type": "stream",
     "text": [
      "El riesgo del paciente es alto\n",
      "Asigne paciente a grupo A\n",
      "Llame de inmediato a contacto de emergencia\n"
     ]
    }
   ],
   "source": [
    "# Supongamos un programa para hacer triage en sala de emergencias\n",
    "riesgo = 'alto'\n",
    "if riesgo == 'alto':\n",
    "    print('El riesgo del paciente es', riesgo)\n",
    "    print('Asigne paciente a grupo A')\n",
    "    print('Llame de inmediato a contacto de emergencia')"
   ]
  },
  {
   "cell_type": "code",
   "execution_count": 14,
   "metadata": {
    "collapsed": false
   },
   "outputs": [
    {
     "name": "stdout",
     "output_type": "stream",
     "text": [
      "Diagnóstico finalizado\n"
     ]
    }
   ],
   "source": [
    "riesgo = 'medio'\n",
    "if riesgo == 'alto':\n",
    "    print('El riesgo del paciente es', riesgo)\n",
    "    print('Asigne paciente a grupo A')\n",
    "    print('Llame de inmediato a contacto de emergencia')\n",
    "print('Diagnóstico finalizado')"
   ]
  },
  {
   "cell_type": "code",
   "execution_count": 15,
   "metadata": {
    "collapsed": false
   },
   "outputs": [
    {
     "name": "stdout",
     "output_type": "stream",
     "text": [
      "El riesgo del paciente es medio\n",
      "Asigne paciente a grupo B\n",
      "Diagnóstico finalizado\n"
     ]
    }
   ],
   "source": [
    "riesgo = 'medio'\n",
    "if riesgo == 'alto':\n",
    "    print('El riesgo del paciente es', riesgo)\n",
    "    print('Asigne paciente a grupo A')\n",
    "    print('Llame de inmediato a contacto de emergencia')\n",
    "elif riesgo == 'medio':\n",
    "    print('El riesgo del paciente es', riesgo)\n",
    "    print('Asigne paciente a grupo B')\n",
    "else:\n",
    "    print('El riesgo del paciente es', riesgo)\n",
    "    print('Asigne paciente a grupo C')\n",
    "print('Diagnóstico finalizado')"
   ]
  },
  {
   "cell_type": "code",
   "execution_count": 16,
   "metadata": {
    "collapsed": false
   },
   "outputs": [
    {
     "name": "stdout",
     "output_type": "stream",
     "text": [
      "Menor a 10\n",
      "Menor a 5\n"
     ]
    }
   ],
   "source": [
    "x = 3\n",
    "if x < 10:\n",
    "    print('Menor a 10')\n",
    "if x < 5:\n",
    "    print('Menor a 5')"
   ]
  },
  {
   "cell_type": "code",
   "execution_count": 17,
   "metadata": {
    "collapsed": false
   },
   "outputs": [
    {
     "name": "stdout",
     "output_type": "stream",
     "text": [
      "Menor a 10\n"
     ]
    }
   ],
   "source": [
    "x = 3\n",
    "if x < 10:\n",
    "    print('Menor a 10')\n",
    "elif x < 5:\n",
    "    print('Menor a 5')"
   ]
  },
  {
   "cell_type": "code",
   "execution_count": 20,
   "metadata": {
    "collapsed": false
   },
   "outputs": [
    {
     "name": "stdout",
     "output_type": "stream",
     "text": [
      "Menor a 10\n",
      "Menor a 20\n"
     ]
    }
   ],
   "source": [
    "x = 3\n",
    "if x < 10:\n",
    "    print('Menor a 10')\n",
    "elif x < 5:\n",
    "    print('Menor a 5')\n",
    "if x < 20:\n",
    "    print('Menor a 20')"
   ]
  },
  {
   "cell_type": "code",
   "execution_count": 23,
   "metadata": {
    "collapsed": false
   },
   "outputs": [
    {
     "name": "stdout",
     "output_type": "stream",
     "text": [
      "Otro caso\n"
     ]
    }
   ],
   "source": [
    "x = 35\n",
    "if x < 10:\n",
    "    print('Menor a 10')\n",
    "elif x < 25:\n",
    "    print('Menor a 25')\n",
    "else:\n",
    "    print(\"Otro caso\")"
   ]
  },
  {
   "cell_type": "markdown",
   "metadata": {},
   "source": [
    "'else', para cualquier otro caso. Recomendación: SIEMPRE incluir 'else'."
   ]
  },
  {
   "cell_type": "markdown",
   "metadata": {},
   "source": [
    "## <font face=\"consolas\">for</font> loops"
   ]
  },
  {
   "cell_type": "code",
   "execution_count": 24,
   "metadata": {
    "collapsed": true
   },
   "outputs": [],
   "source": [
    "nums = [1, 4, 8, 9, 11]"
   ]
  },
  {
   "cell_type": "code",
   "execution_count": 25,
   "metadata": {
    "collapsed": false
   },
   "outputs": [
    {
     "name": "stdout",
     "output_type": "stream",
     "text": [
      "1\n",
      "4\n",
      "8\n",
      "9\n",
      "11\n"
     ]
    }
   ],
   "source": [
    "for n in nums:\n",
    "    print(n)"
   ]
  },
  {
   "cell_type": "code",
   "execution_count": 26,
   "metadata": {
    "collapsed": false
   },
   "outputs": [
    {
     "name": "stdout",
     "output_type": "stream",
     "text": [
      "1\n",
      "4\n",
      "8\n",
      "9\n",
      "11\n"
     ]
    }
   ],
   "source": [
    "for number in nums:\n",
    "    print(number)"
   ]
  },
  {
   "cell_type": "code",
   "execution_count": 27,
   "metadata": {
    "collapsed": false
   },
   "outputs": [
    {
     "name": "stdout",
     "output_type": "stream",
     "text": [
      "Él número es 1\n",
      "Él número es 4\n",
      "Él número es 8\n",
      "Él número es 9\n",
      "Él número es 11\n"
     ]
    }
   ],
   "source": [
    "for número in nums:\n",
    "    print(\"Él número es\", número)"
   ]
  },
  {
   "cell_type": "code",
   "execution_count": 28,
   "metadata": {
    "collapsed": false
   },
   "outputs": [
    {
     "name": "stdout",
     "output_type": "stream",
     "text": [
      "1 es impar\n",
      "4 es par\n",
      "8 es par\n",
      "9 es impar\n",
      "11 es impar\n"
     ]
    }
   ],
   "source": [
    "for i in nums:\n",
    "    if (i % 2) == 1:\n",
    "        print(i, \"es impar\")\n",
    "    else:\n",
    "        print(i, \"es par\")"
   ]
  },
  {
   "cell_type": "code",
   "execution_count": 33,
   "metadata": {
    "collapsed": false
   },
   "outputs": [
    {
     "name": "stdout",
     "output_type": "stream",
     "text": [
      "1 es impar\n",
      "2 es par\n",
      "3 es impar\n",
      "4 es par\n",
      "5 es impar\n",
      "6 es par\n",
      "7 es impar\n",
      "8 es par\n",
      "9 es impar\n",
      "10 es par\n",
      "11 es impar\n",
      "12 es par\n",
      "13 es impar\n",
      "14 es par\n",
      "15 es impar\n",
      "16 es par\n",
      "17 es impar\n",
      "18 es par\n",
      "19 es impar\n",
      "20 es par\n"
     ]
    }
   ],
   "source": [
    "nums = [1,2,3,4,5,6,7,8,9,10,11,12,13,14,15,16,17,18,19,20]\n",
    "for x in nums:\n",
    "    if (x % 2) == 1:\n",
    "        print(x, \"es impar\")\n",
    "    else:\n",
    "        print(x, \"es par\")"
   ]
  },
  {
   "cell_type": "code",
   "execution_count": 35,
   "metadata": {
    "collapsed": false
   },
   "outputs": [
    {
     "name": "stdout",
     "output_type": "stream",
     "text": [
      "1 es impar\n",
      "2 es par\n",
      "3 es impar\n",
      "4 es par\n",
      "5 es impar\n",
      "6 es par\n",
      "7 es impar\n",
      "8 es par\n",
      "9 es impar\n",
      "10 es par\n",
      "11 es impar\n",
      "12 es par\n",
      "13 es impar\n",
      "14 es par\n",
      "15 es impar\n",
      "16 es par\n",
      "17 es impar\n",
      "18 es par\n",
      "19 es impar\n"
     ]
    }
   ],
   "source": [
    "for x in range(1,20):\n",
    "    if (x % 2) == 1:\n",
    "        print(x, \"es impar\")\n",
    "    else:\n",
    "        print(x, \"es par\")"
   ]
  },
  {
   "cell_type": "markdown",
   "metadata": {},
   "source": [
    "Ojo, va hasta n - 1."
   ]
  },
  {
   "cell_type": "code",
   "execution_count": 36,
   "metadata": {
    "collapsed": false
   },
   "outputs": [
    {
     "data": {
      "text/plain": [
       "range(1, 20)"
      ]
     },
     "execution_count": 36,
     "metadata": {},
     "output_type": "execute_result"
    }
   ],
   "source": [
    "range(1,20)"
   ]
  },
  {
   "cell_type": "code",
   "execution_count": 37,
   "metadata": {
    "collapsed": false
   },
   "outputs": [
    {
     "data": {
      "text/plain": [
       "[1, 2, 3, 4, 5, 6, 7, 8, 9, 10, 11, 12, 13, 14, 15, 16, 17, 18, 19]"
      ]
     },
     "execution_count": 37,
     "metadata": {},
     "output_type": "execute_result"
    }
   ],
   "source": [
    "list(range(1,20))"
   ]
  },
  {
   "cell_type": "code",
   "execution_count": 38,
   "metadata": {
    "collapsed": false
   },
   "outputs": [
    {
     "name": "stdout",
     "output_type": "stream",
     "text": [
      "1 es impar\n",
      "2 es par\n",
      "3 es impar\n",
      "4 es par\n",
      "5 es impar\n",
      "6 es par\n",
      "7 es impar\n",
      "8 es par\n",
      "9 es impar\n",
      "10 es par\n",
      "11 es impar\n",
      "12 es par\n",
      "13 es impar\n",
      "14 es par\n",
      "15 es impar\n",
      "16 es par\n",
      "17 es impar\n",
      "18 es par\n",
      "19 es impar\n",
      "20 es par\n"
     ]
    }
   ],
   "source": [
    "for x in range(1,21):\n",
    "    if (x % 2) == 1:\n",
    "        print(x, \"es impar\")\n",
    "    else:\n",
    "        print(x, \"es par\")"
   ]
  },
  {
   "cell_type": "markdown",
   "metadata": {},
   "source": [
    "Un algoritmo un poco más avanzado:"
   ]
  },
  {
   "cell_type": "code",
   "execution_count": 40,
   "metadata": {
    "collapsed": false
   },
   "outputs": [
    {
     "name": "stdout",
     "output_type": "stream",
     "text": [
      "7 True\n"
     ]
    }
   ],
   "source": [
    "es_primo = True\n",
    "n = 7\n",
    "for i in range(2, n):\n",
    "    if n % i == 0:\n",
    "        es_primo = False  # Si n es divisible por i, n no es primo\n",
    "print(n, es_primo)"
   ]
  },
  {
   "cell_type": "code",
   "execution_count": 41,
   "metadata": {
    "collapsed": false
   },
   "outputs": [
    {
     "name": "stdout",
     "output_type": "stream",
     "text": [
      "8 False\n"
     ]
    }
   ],
   "source": [
    "es_primo = True\n",
    "n = 8\n",
    "for i in range(2, n):\n",
    "    if n % i == 0:\n",
    "        es_primo = False  # Si n es divisible por i, n no es primo\n",
    "print(n, es_primo)"
   ]
  },
  {
   "cell_type": "code",
   "execution_count": 42,
   "metadata": {
    "collapsed": false
   },
   "outputs": [
    {
     "name": "stdout",
     "output_type": "stream",
     "text": [
      "i = 2 Primo? False\n",
      "i = 3 Primo? False\n",
      "i = 4 Primo? False\n",
      "i = 5 Primo? False\n",
      "i = 6 Primo? False\n",
      "i = 7 Primo? False\n",
      "8 False\n"
     ]
    }
   ],
   "source": [
    "es_primo = True\n",
    "n = 8\n",
    "for i in range(2, n):\n",
    "    if n % i == 0:\n",
    "        es_primo = False  # Si n es divisible por i, n no es primo\n",
    "    print(\"i =\", i, \"Primo?\", es_primo)\n",
    "print(n, es_primo)"
   ]
  },
  {
   "cell_type": "markdown",
   "metadata": {},
   "source": [
    "Muy útil y recomendable incluir print statements dentro del loop."
   ]
  },
  {
   "cell_type": "code",
   "execution_count": 43,
   "metadata": {
    "collapsed": false
   },
   "outputs": [
    {
     "name": "stdout",
     "output_type": "stream",
     "text": [
      "8 False\n"
     ]
    }
   ],
   "source": [
    "es_primo = True\n",
    "n = 8\n",
    "for i in range(2, n):\n",
    "    if n % i == 0:\n",
    "        es_primo = False  # Si n es divisible por i, n no es primo\n",
    "        break\n",
    "print(n, es_primo)"
   ]
  },
  {
   "cell_type": "code",
   "execution_count": 45,
   "metadata": {
    "collapsed": false
   },
   "outputs": [
    {
     "name": "stdout",
     "output_type": "stream",
     "text": [
      "i = 2 Primo? False\n",
      "8 False\n"
     ]
    }
   ],
   "source": [
    "es_primo = True\n",
    "n = 8\n",
    "for i in range(2, n):\n",
    "    if n % i == 0:\n",
    "        es_primo = False  # Si n es divisible por i, n no es primo\n",
    "        print(\"i =\", i, \"Primo?\", es_primo)\n",
    "        break\n",
    "print(n, es_primo)"
   ]
  },
  {
   "cell_type": "code",
   "execution_count": 50,
   "metadata": {
    "collapsed": false,
    "scrolled": true
   },
   "outputs": [
    {
     "name": "stdout",
     "output_type": "stream",
     "text": [
      "2 True\n",
      "3 True\n",
      "4 False\n",
      "5 True\n",
      "6 False\n",
      "7 True\n",
      "8 False\n",
      "9 False\n",
      "10 False\n",
      "11 True\n",
      "12 False\n",
      "13 True\n",
      "14 False\n",
      "15 False\n",
      "16 False\n",
      "17 True\n",
      "18 False\n",
      "19 True\n",
      "20 False\n",
      "21 False\n",
      "22 False\n",
      "23 True\n",
      "24 False\n",
      "25 False\n",
      "26 False\n",
      "27 False\n",
      "28 False\n",
      "29 True\n",
      "30 False\n",
      "31 True\n",
      "32 False\n",
      "33 False\n",
      "34 False\n",
      "35 False\n",
      "36 False\n",
      "37 True\n",
      "38 False\n",
      "39 False\n",
      "40 False\n",
      "41 True\n",
      "42 False\n",
      "43 True\n",
      "44 False\n",
      "45 False\n",
      "46 False\n",
      "47 True\n",
      "48 False\n",
      "49 False\n",
      "50 False\n",
      "51 False\n",
      "52 False\n",
      "53 True\n",
      "54 False\n",
      "55 False\n",
      "56 False\n",
      "57 False\n",
      "58 False\n",
      "59 True\n",
      "60 False\n",
      "61 True\n",
      "62 False\n",
      "63 False\n",
      "64 False\n",
      "65 False\n",
      "66 False\n",
      "67 True\n",
      "68 False\n",
      "69 False\n",
      "70 False\n",
      "71 True\n",
      "72 False\n",
      "73 True\n",
      "74 False\n",
      "75 False\n",
      "76 False\n",
      "77 False\n",
      "78 False\n",
      "79 True\n",
      "80 False\n",
      "81 False\n",
      "82 False\n",
      "83 True\n",
      "84 False\n",
      "85 False\n",
      "86 False\n",
      "87 False\n",
      "88 False\n",
      "89 True\n",
      "90 False\n",
      "91 False\n",
      "92 False\n",
      "93 False\n",
      "94 False\n",
      "95 False\n",
      "96 False\n",
      "97 True\n",
      "98 False\n",
      "99 False\n",
      "100 False\n"
     ]
    }
   ],
   "source": [
    "for n in range(2, 101):\n",
    "    es_primo = True\n",
    "    for i in range(2, n):\n",
    "        if n % i == 0:\n",
    "            es_primo = False  # Si n es divisible por i, n no es primo\n",
    "            break\n",
    "    print(n, es_primo)"
   ]
  },
  {
   "cell_type": "markdown",
   "metadata": {},
   "source": [
    "## <font face=\"consolas\">while</font> loops"
   ]
  },
  {
   "cell_type": "code",
   "execution_count": 52,
   "metadata": {
    "collapsed": false
   },
   "outputs": [
    {
     "name": "stdout",
     "output_type": "stream",
     "text": [
      "0\n",
      "1\n",
      "2\n",
      "3\n",
      "4\n",
      "5\n",
      "6\n",
      "7\n",
      "8\n",
      "9\n"
     ]
    }
   ],
   "source": [
    "i = 0\n",
    "N = 10\n",
    "while i < N:\n",
    "    print(i)\n",
    "    i = i + 1"
   ]
  },
  {
   "cell_type": "markdown",
   "metadata": {},
   "source": [
    "i = 1\n",
    "while i > 0:\n",
    "    print(i)\n",
    "    i = i + 1"
   ]
  }
 ],
 "metadata": {
  "kernelspec": {
   "display_name": "Python [Root]",
   "language": "python",
   "name": "Python [Root]"
  },
  "language_info": {
   "codemirror_mode": {
    "name": "ipython",
    "version": 3
   },
   "file_extension": ".py",
   "mimetype": "text/x-python",
   "name": "python",
   "nbconvert_exporter": "python",
   "pygments_lexer": "ipython3",
   "version": "3.5.2"
  }
 },
 "nbformat": 4,
 "nbformat_minor": 0
}
