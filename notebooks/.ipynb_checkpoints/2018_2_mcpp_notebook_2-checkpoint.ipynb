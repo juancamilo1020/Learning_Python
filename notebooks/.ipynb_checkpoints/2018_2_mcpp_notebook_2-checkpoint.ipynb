{
 "cells": [
  {
   "cell_type": "markdown",
   "metadata": {},
   "source": [
    "# Estructuras de control"
   ]
  },
  {
   "cell_type": "markdown",
   "metadata": {},
   "source": [
    "## Condicionales"
   ]
  },
  {
   "cell_type": "code",
   "execution_count": 1,
   "metadata": {},
   "outputs": [
    {
     "name": "stdout",
     "output_type": "stream",
     "text": [
      "Menor a siete\n"
     ]
    }
   ],
   "source": [
    "a = 5  # Defino variable igual a 5\n",
    "if a < 7:\n",
    "    print(\"Menor a siete\")"
   ]
  },
  {
   "cell_type": "markdown",
   "metadata": {},
   "source": [
    "Operadores lógicos o de comparación"
   ]
  },
  {
   "cell_type": "code",
   "execution_count": 2,
   "metadata": {},
   "outputs": [
    {
     "data": {
      "text/plain": [
       "True"
      ]
     },
     "execution_count": 2,
     "metadata": {},
     "output_type": "execute_result"
    }
   ],
   "source": [
    "a == 5"
   ]
  },
  {
   "cell_type": "code",
   "execution_count": 3,
   "metadata": {},
   "outputs": [
    {
     "data": {
      "text/plain": [
       "False"
      ]
     },
     "execution_count": 3,
     "metadata": {},
     "output_type": "execute_result"
    }
   ],
   "source": [
    "a < 5"
   ]
  },
  {
   "cell_type": "code",
   "execution_count": 4,
   "metadata": {},
   "outputs": [
    {
     "data": {
      "text/plain": [
       "False"
      ]
     },
     "execution_count": 4,
     "metadata": {},
     "output_type": "execute_result"
    }
   ],
   "source": [
    "a > 5"
   ]
  },
  {
   "cell_type": "code",
   "execution_count": 5,
   "metadata": {},
   "outputs": [
    {
     "data": {
      "text/plain": [
       "True"
      ]
     },
     "execution_count": 5,
     "metadata": {},
     "output_type": "execute_result"
    }
   ],
   "source": [
    "a <= 5"
   ]
  },
  {
   "cell_type": "code",
   "execution_count": 6,
   "metadata": {},
   "outputs": [
    {
     "data": {
      "text/plain": [
       "True"
      ]
     },
     "execution_count": 6,
     "metadata": {},
     "output_type": "execute_result"
    }
   ],
   "source": [
    "a >= 5"
   ]
  },
  {
   "cell_type": "code",
   "execution_count": 7,
   "metadata": {},
   "outputs": [
    {
     "data": {
      "text/plain": [
       "False"
      ]
     },
     "execution_count": 7,
     "metadata": {},
     "output_type": "execute_result"
    }
   ],
   "source": [
    "a != 5"
   ]
  },
  {
   "cell_type": "code",
   "execution_count": 8,
   "metadata": {
    "collapsed": true
   },
   "outputs": [],
   "source": [
    "a = 10  # Notemos que = no es un operador lógico; se usa para asignación"
   ]
  },
  {
   "cell_type": "markdown",
   "metadata": {},
   "source": [
    "Volviendo a condicionales"
   ]
  },
  {
   "cell_type": "code",
   "execution_count": 9,
   "metadata": {},
   "outputs": [
    {
     "name": "stdout",
     "output_type": "stream",
     "text": [
      "El riesgo del paciente es alto\n",
      "Asigne paciente a grupo A\n",
      "Llame de inmediato a contacto de emergencia\n"
     ]
    }
   ],
   "source": [
    "riesgo = \"alto\"\n",
    "if riesgo == \"alto\":\n",
    "    print(\"El riesgo del paciente es\", riesgo)\n",
    "    print(\"Asigne paciente a grupo A\")\n",
    "    print(\"Llame de inmediato a contacto de emergencia\")"
   ]
  },
  {
   "cell_type": "code",
   "execution_count": 10,
   "metadata": {},
   "outputs": [
    {
     "name": "stdout",
     "output_type": "stream",
     "text": [
      "Diagnóstico finalizado\n"
     ]
    }
   ],
   "source": [
    "riesgo = \"medio\"\n",
    "if riesgo == \"alto\":\n",
    "    print(\"El riesgo del paciente es\", riesgo)\n",
    "    print(\"Asigne paciente a grupo A\")\n",
    "    print(\"Llame de inmediato a contacto de emergencia\")\n",
    "print(\"Diagnóstico finalizado\")"
   ]
  },
  {
   "cell_type": "code",
   "execution_count": 11,
   "metadata": {},
   "outputs": [
    {
     "name": "stdout",
     "output_type": "stream",
     "text": [
      "El riesgo del paciente es medio\n",
      "Asigne paciente a grupo B\n",
      "Llame de inmediato a contacto de emergencia\n",
      "Diagnóstico finalizado\n"
     ]
    }
   ],
   "source": [
    "riesgo = \"medio\"\n",
    "if riesgo == \"alto\":\n",
    "    print(\"El riesgo del paciente es\", riesgo)\n",
    "    print(\"Asigne paciente a grupo A\")\n",
    "    print(\"Llame de inmediato a contacto de emergencia\")\n",
    "elif riesgo == \"medio\":\n",
    "    print(\"El riesgo del paciente es\", riesgo)\n",
    "    print(\"Asigne paciente a grupo B\")\n",
    "    print(\"Llame de inmediato a contacto de emergencia\")\n",
    "else:\n",
    "    print(\"El riesgo del paciente es\", riesgo)\n",
    "    print(\"Asigne paciente a grupo C\")\n",
    "print(\"Diagnóstico finalizado\")"
   ]
  },
  {
   "cell_type": "markdown",
   "metadata": {},
   "source": [
    "Diferencia entre \"if\" y \"elif\":"
   ]
  },
  {
   "cell_type": "code",
   "execution_count": 12,
   "metadata": {},
   "outputs": [
    {
     "name": "stdout",
     "output_type": "stream",
     "text": [
      "Menor a 10\n",
      "Menor a 5\n"
     ]
    }
   ],
   "source": [
    "x = 3\n",
    "if x < 10:\n",
    "    print(\"Menor a 10\")\n",
    "if x < 5:\n",
    "    print(\"Menor a 5\")"
   ]
  },
  {
   "cell_type": "code",
   "execution_count": 13,
   "metadata": {},
   "outputs": [
    {
     "name": "stdout",
     "output_type": "stream",
     "text": [
      "Menor a 10\n"
     ]
    }
   ],
   "source": [
    "x = 3\n",
    "if x < 10:\n",
    "    print(\"Menor a 10\")\n",
    "elif x < 5:\n",
    "    print(\"Menor a 5\")"
   ]
  },
  {
   "cell_type": "code",
   "execution_count": 14,
   "metadata": {},
   "outputs": [
    {
     "name": "stdout",
     "output_type": "stream",
     "text": [
      "Menor a 10\n",
      "Menor a 20\n"
     ]
    }
   ],
   "source": [
    "x = 3\n",
    "if x < 10:\n",
    "    print(\"Menor a 10\")\n",
    "elif x < 5:\n",
    "    print(\"Menor a 5\")\n",
    "if x < 20:\n",
    "    print(\"Menor a 20\")"
   ]
  },
  {
   "cell_type": "code",
   "execution_count": 15,
   "metadata": {},
   "outputs": [],
   "source": [
    "x = 35\n",
    "if x < 10:\n",
    "    print(\"Menor a 10\")\n",
    "elif x < 5:\n",
    "    print(\"Menor a 5\")"
   ]
  },
  {
   "cell_type": "code",
   "execution_count": 16,
   "metadata": {},
   "outputs": [
    {
     "name": "stdout",
     "output_type": "stream",
     "text": [
      "Menor a 10\n"
     ]
    }
   ],
   "source": [
    "x = 35\n",
    "if x > 10:\n",
    "    print(\"Menor a 10\")\n",
    "elif x < 5:\n",
    "    print(\"Menor a 5\")\n",
    "else:\n",
    "    print(\"Otro caso\")"
   ]
  },
  {
   "cell_type": "markdown",
   "metadata": {},
   "source": [
    "## <font face=\"consolas\">for</font> loops"
   ]
  },
  {
   "cell_type": "code",
   "execution_count": 17,
   "metadata": {
    "collapsed": true
   },
   "outputs": [],
   "source": [
    "nums = [1, 4, 8, 9, 11]"
   ]
  },
  {
   "cell_type": "code",
   "execution_count": 18,
   "metadata": {},
   "outputs": [
    {
     "name": "stdout",
     "output_type": "stream",
     "text": [
      "1\n",
      "4\n",
      "8\n",
      "9\n",
      "11\n"
     ]
    }
   ],
   "source": [
    "for n in nums:\n",
    "    print(n)"
   ]
  },
  {
   "cell_type": "markdown",
   "metadata": {},
   "source": [
    "El \"nombre\" del iterados (en este caso \"n\"), es arbitrario."
   ]
  },
  {
   "cell_type": "code",
   "execution_count": 19,
   "metadata": {},
   "outputs": [
    {
     "name": "stdout",
     "output_type": "stream",
     "text": [
      "1\n",
      "4\n",
      "8\n",
      "9\n",
      "11\n"
     ]
    }
   ],
   "source": [
    "for número in nums:\n",
    "    print(número)"
   ]
  },
  {
   "cell_type": "code",
   "execution_count": 20,
   "metadata": {},
   "outputs": [
    {
     "name": "stdout",
     "output_type": "stream",
     "text": [
      "El número es 1\n",
      "El número es 4\n",
      "El número es 8\n",
      "El número es 9\n",
      "El número es 11\n"
     ]
    }
   ],
   "source": [
    "for número in nums:\n",
    "    print(\"El número es\", número)"
   ]
  },
  {
   "cell_type": "code",
   "execution_count": 21,
   "metadata": {},
   "outputs": [
    {
     "name": "stdout",
     "output_type": "stream",
     "text": [
      "1 es impar\n",
      "4 es par\n",
      "8 es par\n",
      "9 es impar\n",
      "11 es impar\n"
     ]
    }
   ],
   "source": [
    "for i in nums:\n",
    "    if (i % 2) == 1:\n",
    "        print(i, \"es impar\")\n",
    "    else:\n",
    "        print(i, \"es par\")"
   ]
  },
  {
   "cell_type": "code",
   "execution_count": 22,
   "metadata": {},
   "outputs": [
    {
     "name": "stdout",
     "output_type": "stream",
     "text": [
      "1 es impar\n",
      "2 es par\n",
      "3 es impar\n",
      "4 es par\n",
      "5 es impar\n",
      "6 es par\n",
      "7 es impar\n",
      "8 es par\n",
      "9 es impar\n",
      "10 es par\n",
      "11 es impar\n",
      "12 es par\n",
      "13 es impar\n",
      "14 es par\n",
      "15 es impar\n",
      "16 es par\n",
      "17 es impar\n",
      "18 es par\n",
      "19 es impar\n",
      "20 es par\n"
     ]
    }
   ],
   "source": [
    "nums = [1,2,3,4,5,6,7,8,9,10,11,12,13,14,15,16,17,18,19,20]\n",
    "for i in nums:\n",
    "    if (i % 2) == 1:\n",
    "        print(i, \"es impar\")\n",
    "    else:\n",
    "        print(i, \"es par\")"
   ]
  },
  {
   "cell_type": "code",
   "execution_count": 23,
   "metadata": {},
   "outputs": [
    {
     "name": "stdout",
     "output_type": "stream",
     "text": [
      "1 es impar\n",
      "2 es par\n",
      "3 es impar\n",
      "4 es par\n",
      "5 es impar\n",
      "6 es par\n",
      "7 es impar\n",
      "8 es par\n",
      "9 es impar\n",
      "10 es par\n",
      "11 es impar\n",
      "12 es par\n",
      "13 es impar\n",
      "14 es par\n",
      "15 es impar\n",
      "16 es par\n",
      "17 es impar\n",
      "18 es par\n",
      "19 es impar\n"
     ]
    }
   ],
   "source": [
    "for i in range(1,20):\n",
    "    if (i % 2) == 1:\n",
    "        print(i, \"es impar\")\n",
    "    else:\n",
    "        print(i, \"es par\")"
   ]
  },
  {
   "cell_type": "markdown",
   "metadata": {},
   "source": [
    "Ojo, range va hasta n - 1."
   ]
  },
  {
   "cell_type": "code",
   "execution_count": 24,
   "metadata": {},
   "outputs": [
    {
     "data": {
      "text/plain": [
       "range(1, 20)"
      ]
     },
     "execution_count": 24,
     "metadata": {},
     "output_type": "execute_result"
    }
   ],
   "source": [
    "range(1,20)"
   ]
  },
  {
   "cell_type": "code",
   "execution_count": 25,
   "metadata": {},
   "outputs": [
    {
     "data": {
      "text/plain": [
       "[1, 2, 3, 4, 5, 6, 7, 8, 9, 10, 11, 12, 13, 14, 15, 16, 17, 18, 19]"
      ]
     },
     "execution_count": 25,
     "metadata": {},
     "output_type": "execute_result"
    }
   ],
   "source": [
    "list(range(1,20))"
   ]
  },
  {
   "cell_type": "code",
   "execution_count": 26,
   "metadata": {},
   "outputs": [
    {
     "name": "stdout",
     "output_type": "stream",
     "text": [
      "1 es impar\n",
      "2 es par\n",
      "3 es impar\n",
      "4 es par\n",
      "5 es impar\n",
      "6 es par\n",
      "7 es impar\n",
      "8 es par\n",
      "9 es impar\n",
      "10 es par\n",
      "11 es impar\n",
      "12 es par\n",
      "13 es impar\n",
      "14 es par\n",
      "15 es impar\n",
      "16 es par\n",
      "17 es impar\n",
      "18 es par\n",
      "19 es impar\n",
      "20 es par\n"
     ]
    }
   ],
   "source": [
    "for i in range(1,21):\n",
    "    if (i % 2) == 1:\n",
    "        print(i, \"es impar\")\n",
    "    else:\n",
    "        print(i, \"es par\")"
   ]
  },
  {
   "cell_type": "code",
   "execution_count": 27,
   "metadata": {},
   "outputs": [
    {
     "name": "stdout",
     "output_type": "stream",
     "text": [
      "7 True\n"
     ]
    }
   ],
   "source": [
    "es_primo = True\n",
    "n = 7\n",
    "for i in range(2, n):\n",
    "    if n % i == 0:\n",
    "        es_primo = False  # Si n es divisible por i, no es primo\n",
    "print(n, es_primo)"
   ]
  },
  {
   "cell_type": "code",
   "execution_count": 28,
   "metadata": {},
   "outputs": [
    {
     "name": "stdout",
     "output_type": "stream",
     "text": [
      "Esta es la iteración cuando i es igual a 2\n",
      "Esta es la iteración cuando i es igual a 3\n",
      "Esta es la iteración cuando i es igual a 4\n",
      "Esta es la iteración cuando i es igual a 5\n",
      "Esta es la iteración cuando i es igual a 6\n",
      "Esta es la iteración cuando i es igual a 7\n",
      "8 False\n"
     ]
    }
   ],
   "source": [
    "es_primo = True\n",
    "n = 8\n",
    "for i in range(2, n):\n",
    "    if n % i == 0:\n",
    "        es_primo = False\n",
    "    print(\"Esta es la iteración cuando i es igual a\", i)\n",
    "print(n, es_primo)"
   ]
  },
  {
   "cell_type": "code",
   "execution_count": 29,
   "metadata": {},
   "outputs": [
    {
     "name": "stdout",
     "output_type": "stream",
     "text": [
      "Esta es la iteración cuando i es igual a 2\n",
      "8 False\n"
     ]
    }
   ],
   "source": [
    "es_primo = True\n",
    "n = 8\n",
    "for i in range(2, n):\n",
    "    print(\"Esta es la iteración cuando i es igual a\", i)\n",
    "    if n % i == 0:\n",
    "        es_primo = False\n",
    "        break\n",
    "print(n, es_primo)"
   ]
  },
  {
   "cell_type": "code",
   "execution_count": 30,
   "metadata": {},
   "outputs": [
    {
     "name": "stdout",
     "output_type": "stream",
     "text": [
      "Esta es la iteración cuando i es igual a 2\n",
      "Esta es la iteración cuando i es igual a 3\n",
      "Esta es la iteración cuando i es igual a 4\n",
      "Esta es la iteración cuando i es igual a 5\n",
      "Esta es la iteración cuando i es igual a 6\n",
      "Esta es la iteración cuando i es igual a 7\n",
      "Esta es la iteración cuando i es igual a 8\n",
      "Esta es la iteración cuando i es igual a 9\n",
      "Esta es la iteración cuando i es igual a 10\n",
      "11 True\n"
     ]
    }
   ],
   "source": [
    "es_primo = True\n",
    "n = 11\n",
    "for i in range(2, n):\n",
    "    print(\"Esta es la iteración cuando i es igual a\", i)\n",
    "    if n % i == 0:\n",
    "        es_primo = False\n",
    "        break\n",
    "print(n, es_primo)"
   ]
  },
  {
   "cell_type": "markdown",
   "metadata": {},
   "source": [
    "Usar print statements siempre es buena idea (en el proceso)."
   ]
  },
  {
   "cell_type": "markdown",
   "metadata": {},
   "source": [
    "## <font face=\"consolas\">while</font> loops"
   ]
  },
  {
   "cell_type": "code",
   "execution_count": 31,
   "metadata": {},
   "outputs": [
    {
     "name": "stdout",
     "output_type": "stream",
     "text": [
      "0\n",
      "1\n",
      "2\n",
      "3\n",
      "4\n",
      "5\n",
      "6\n",
      "7\n",
      "8\n",
      "9\n"
     ]
    }
   ],
   "source": [
    "i = 0\n",
    "N = 10\n",
    "while i < N:\n",
    "    print(i)\n",
    "    i = i + 1"
   ]
  },
  {
   "cell_type": "markdown",
   "metadata": {},
   "source": [
    "Ojo: con los while loops se corre el riesgo de quedarse en un loop infinito."
   ]
  },
  {
   "cell_type": "markdown",
   "metadata": {},
   "source": [
    "---"
   ]
  },
  {
   "cell_type": "code",
   "execution_count": 38,
   "metadata": {},
   "outputs": [
    {
     "data": {
      "text/plain": [
       "range(0, 10)"
      ]
     },
     "execution_count": 38,
     "metadata": {},
     "output_type": "execute_result"
    }
   ],
   "source": [
    "range(0,10)"
   ]
  },
  {
   "cell_type": "code",
   "execution_count": 39,
   "metadata": {},
   "outputs": [
    {
     "data": {
      "text/plain": [
       "[0, 1, 2, 3, 4, 5, 6, 7, 8, 9]"
      ]
     },
     "execution_count": 39,
     "metadata": {},
     "output_type": "execute_result"
    }
   ],
   "source": [
    "list(range(0,10))"
   ]
  },
  {
   "cell_type": "code",
   "execution_count": 40,
   "metadata": {},
   "outputs": [
    {
     "data": {
      "text/plain": [
       "range(0, 10)"
      ]
     },
     "execution_count": 40,
     "metadata": {},
     "output_type": "execute_result"
    }
   ],
   "source": [
    "range(10)"
   ]
  },
  {
   "cell_type": "markdown",
   "metadata": {},
   "source": [
    "---"
   ]
  }
 ],
 "metadata": {
  "kernelspec": {
   "display_name": "Python 3",
   "language": "python",
   "name": "python3"
  },
  "language_info": {
   "codemirror_mode": {
    "name": "ipython",
    "version": 3
   },
   "file_extension": ".py",
   "mimetype": "text/x-python",
   "name": "python",
   "nbconvert_exporter": "python",
   "pygments_lexer": "ipython3",
   "version": "3.6.5"
  }
 },
 "nbformat": 4,
 "nbformat_minor": 1
}
